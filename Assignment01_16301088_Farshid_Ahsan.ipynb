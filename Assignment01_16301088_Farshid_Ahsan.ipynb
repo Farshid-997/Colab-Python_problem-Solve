{
  "nbformat": 4,
  "nbformat_minor": 0,
  "metadata": {
    "colab": {
      "name": "Assignment01_16301088_Farshid Ahsan.ipynb",
      "provenance": [],
      "collapsed_sections": [],
      "include_colab_link": true
    },
    "kernelspec": {
      "name": "python3",
      "display_name": "Python 3"
    }
  },
  "cells": [
    {
      "cell_type": "markdown",
      "metadata": {
        "id": "view-in-github",
        "colab_type": "text"
      },
      "source": [
        "<a href=\"https://colab.research.google.com/github/Farshid-997/Colab-Python_problem-Solve/blob/main/Assignment01_16301088_Farshid_Ahsan.ipynb\" target=\"_parent\"><img src=\"https://colab.research.google.com/assets/colab-badge.svg\" alt=\"Open In Colab\"/></a>"
      ]
    },
    {
      "cell_type": "markdown",
      "metadata": {
        "id": "8fABGItg0xR9"
      },
      "source": [
        "String_task1"
      ]
    },
    {
      "cell_type": "code",
      "metadata": {
        "id": "hBGR8xJSNNQA",
        "colab": {
          "base_uri": "https://localhost:8080/"
        },
        "outputId": "f9843d69-96ec-4fc7-b9d0-18d3c3de548f"
      },
      "source": [
        "a=input(\"enter a string \\n\")\n",
        "\n",
        "upper=0\n",
        "\n",
        "lower=0\n",
        "\n",
        "for i in range(len(a)):\n",
        "    \n",
        "    if ord(a[i])>=97 and ord(a[i])<=122:\n",
        "           lower=+1\n",
        "    elif ord(a[i])>=65 and ord(a[i])<=90:\n",
        "           upper=+1\n",
        "       \n",
        "if upper>lower:\n",
        "    print (a.upper())\n",
        "\n",
        "else:\n",
        "    print (a.lower())"
      ],
      "execution_count": null,
      "outputs": [
        {
          "output_type": "stream",
          "text": [
            "enter a string \n",
            "HOusE\n",
            "house\n"
          ],
          "name": "stdout"
        }
      ]
    },
    {
      "cell_type": "markdown",
      "metadata": {
        "id": "TUMPpqGT021a"
      },
      "source": [
        "String_Task2"
      ]
    },
    {
      "cell_type": "code",
      "metadata": {
        "id": "IdEaNBLgxkdS"
      },
      "source": [
        "a=input(\"enter a string \\n\")\n",
        "num_check=False\n",
        "letter_check=False\n",
        "for x in a:\n",
        "    if x in '0123456789' :\n",
        "       num_check=True\n",
        "    if x in 'A,B,C,D,E,F,G,H,I,J,K,L,M,N,O,P,Q,R,S,T,U,V,W,X,Y,Z,a,b,c,d,e,f,g,h,i,j,k,l,m,n,o,p,q,r,s,t,u,v,w,x,y,z':\n",
        "        letter_check=True\n",
        "if (num_check and letter_check)==True:\n",
        "     print(\"MIXED\")\n",
        "elif num_check==True:\n",
        "     print(\"NUMBER\")\n",
        "else:\n",
        "    print(\"WORD\")"
      ],
      "execution_count": null,
      "outputs": []
    },
    {
      "cell_type": "markdown",
      "metadata": {
        "id": "FBTqWONh05vc"
      },
      "source": [
        "String_task3"
      ]
    },
    {
      "cell_type": "code",
      "metadata": {
        "id": "OUW-T85IXimG"
      },
      "source": [
        "a=str(input(\"INSERT A STRING \\n\"))\n",
        "str=\"\"\n",
        "for i in a:\n",
        "    if ord(i)<=90:\n",
        "        for i in range(a.find(i)+1,len(a)):\n",
        "            if ord(a[i])<=90:\n",
        "                break\n",
        "            else:\n",
        "                 str+=a[i]\n",
        "        break\n",
        "if str==\"\":\n",
        "    print(\"BLANK\")\n",
        "else:\n",
        "    print(str)"
      ],
      "execution_count": null,
      "outputs": []
    },
    {
      "cell_type": "markdown",
      "metadata": {
        "id": "qA7SN9g51ClI"
      },
      "source": [
        "String_task4"
      ]
    },
    {
      "cell_type": "code",
      "metadata": {
        "id": "dcrDNFq9y3B8"
      },
      "source": [
        "a=input(\"Enter a string \\n\")\n",
        "b=a.index(\"too\")\n",
        "c=a.index(\"good\")\n",
        "if c>b:\n",
        "    b=a.replace(\"too good\",\"excellent\")\n",
        "    print(b)\n",
        "    \n",
        "else:\n",
        "    print(a)"
      ],
      "execution_count": null,
      "outputs": []
    },
    {
      "cell_type": "markdown",
      "metadata": {
        "id": "EEFxWzrG1Hmo"
      },
      "source": [
        "string_task5"
      ]
    },
    {
      "cell_type": "code",
      "metadata": {
        "id": "x-j0pL0wy7bt"
      },
      "source": [
        "a,b=map(str, input().split(\",\"))\n",
        "\n",
        "new_str=\"\"\n",
        "\n",
        "for x in a:\n",
        "   if x in b:\n",
        "      new_str+=x\n",
        "for x in b:\n",
        "   if x in a:\n",
        "    new_str+=x\n",
        "if new_str==\"\":\n",
        "   print(\"Nothing in common.\")\n",
        "else:\n",
        "   print(new_str)\n",
        "    "
      ],
      "execution_count": null,
      "outputs": []
    },
    {
      "cell_type": "markdown",
      "metadata": {
        "id": "50D9pGg91J1Q"
      },
      "source": [
        "string_task6"
      ]
    },
    {
      "cell_type": "code",
      "metadata": {
        "id": "E_CJTxbDzCNy"
      },
      "source": [
        "a=str(input(\"Enter a password \\n\"))\n",
        "lower_letter=False\n",
        "upper_letter=False\n",
        "digit=False\n",
        "special_char=False\n",
        "for i in a:\n",
        "    if i in 'a,b,c,d,e,f,g,h,i,j,k,l,m,n,o,p,q,r,s,t,u,v,w,x,y,z':\n",
        "        lower_letter=True\n",
        "    if i in 'A,B,C,D,E,F,G,H,I,J,K,L,M,N,O,P,Q,R,S,T,U,V,W,X,Y,Z':\n",
        "        upper_letter=True\n",
        "    if i in '0123456789':\n",
        "        digit=True\n",
        "    if i in '@,#,_,$':\n",
        "        special_char=True\n",
        "err=[]\n",
        "if lower_letter==False:\n",
        "    print(\"lower case missing\")\n",
        "    \n",
        "elif digit==False:\n",
        "    print(\"Digit missing\")\n",
        "    err.append(\"Digit missing\")\n",
        "elif upper_letter==False:\n",
        "    print(\"upper case letter missing\")\n",
        "    err.append(\"Uppercase character missing\")\n",
        "elif special_char==False:\n",
        "    print(\"special Character missing\")\n",
        "    err.append(\"Special character missing\")\n",
        "elif  (digit and upper_letter and special_char and lower_letter)==True:\n",
        "    print(\"ok\")\n",
        "    print(err)\n",
        "else:\n",
        "    print(err)"
      ],
      "execution_count": null,
      "outputs": []
    },
    {
      "cell_type": "markdown",
      "metadata": {
        "id": "dBCQVWSkzMTy"
      },
      "source": [
        "List task1"
      ]
    },
    {
      "cell_type": "code",
      "metadata": {
        "id": "h4mfVUMJzF0B"
      },
      "source": [
        "list=[]\n",
        "while True:\n",
        "   string=input()\n",
        "   if string=='STOP':\n",
        "       break\n",
        "   list.append(int(string))\n",
        "list.sort()\n",
        "\n",
        "for i in range(len(list)):\n",
        "    counter=list.count(list[i])\n",
        "    print(list[i],\"-\",counter, \"times\")\n",
        "    "
      ],
      "execution_count": null,
      "outputs": []
    },
    {
      "cell_type": "markdown",
      "metadata": {
        "id": "V8W8c8DszbVB"
      },
      "source": [
        "List_task3"
      ]
    },
    {
      "cell_type": "code",
      "metadata": {
        "id": "r5ejABAxzKn_"
      },
      "source": [
        "list1=list(map(int,input().split(\" \")))\n",
        "list2=list(map(int,input().split(\" \")))\n",
        "list3=[]\n",
        "    \n",
        "for i in list1:\n",
        "   for j in list2:\n",
        "      list3.append(i*j)\n",
        "print(list3)"
      ],
      "execution_count": null,
      "outputs": []
    },
    {
      "cell_type": "markdown",
      "metadata": {
        "id": "51oe4wVLzpGI"
      },
      "source": [
        "List_task4"
      ]
    },
    {
      "cell_type": "code",
      "metadata": {
        "id": "NKQg3JIUzr0q",
        "colab": {
          "base_uri": "https://localhost:8080/"
        },
        "outputId": "aa4dae97-f34a-4071-d367-094f960ec7fe"
      },
      "source": [
        "while True:\n",
        "    string=input()\n",
        "    if string=='STOP':\n",
        "       break\n",
        "    a=list(map(int,string.split(\" \")))\n",
        "    # \n",
        "    count=0\n",
        "    for i in range(0,len(a)-1):\n",
        "        diff=abs(a[i+1]-a[i])\n",
        "        if not(diff>=1 and diff<=(len(a)-1)):\n",
        "           count=count+1\n",
        "    if count:\n",
        "        print(\"Not UB Jumper\")\n",
        "    else:\n",
        "        print(\"UB Jumper\")\n",
        "    if a=='STOP':\n",
        "        break"
      ],
      "execution_count": null,
      "outputs": [
        {
          "output_type": "stream",
          "text": [
            "1 4 2 3\n",
            "UB Jumper\n",
            "2 1 4 6 10\n",
            "UB Jumper\n",
            "1 4 2 -1 6\n",
            "Not UB Jumper\n"
          ],
          "name": "stdout"
        }
      ]
    },
    {
      "cell_type": "markdown",
      "metadata": {
        "id": "gYQ1p5u2zxkJ"
      },
      "source": [
        "List_task5"
      ]
    },
    {
      "cell_type": "code",
      "metadata": {
        "id": "gV-kIEpGzzyt"
      },
      "source": [
        "st=input()\n",
        "up=[]\n",
        "low=[]\n",
        "\n",
        "odd=[]\n",
        "even=[]\n",
        "for i in st:\n",
        "    if i in 'a,b,c,d,e,f,g,h,i,j,k,l,m,n,o,p,q,r,s,t,u,v,w,x,y,z':\n",
        "         low.append(i)\n",
        "    elif i in 'A,B,C,D,E,F,G,H,I,J,K,L,M,N,O,P,Q,R,S,T,U,V,W,X,Y,Z':\n",
        "         up.append(i)\n",
        "    elif i in '0123456789':\n",
        "        i=int(i)\n",
        "        if i%2==1:\n",
        "            odd.append(i)\n",
        "        else:\n",
        "            even.append(i)\n",
        "emt_str=\"\"\n",
        "for x in [low,up,odd,even]:\n",
        "    x.sort()\n",
        "    for a in x:\n",
        "        a=str(a)\n",
        "        emt_str+=a\n",
        "print(emt_str)"
      ],
      "execution_count": null,
      "outputs": []
    },
    {
      "cell_type": "markdown",
      "metadata": {
        "id": "QyG_MVFLz2e6"
      },
      "source": [
        "List_Task6"
      ]
    },
    {
      "cell_type": "code",
      "metadata": {
        "id": "SuRrwKQCz4t7"
      },
      "source": [
        "n,m=map(int,input().split())\n",
        "a=list(map(int,input().split()))\n",
        "\n",
        "count=0\n",
        "\n",
        "for i in a:\n",
        "    if 5-i>=m:\n",
        "        count=count+1\n",
        "c1=count//3\n",
        "print(c1)   \n",
        "       \n",
        "       \n",
        "       \n",
        "\n"
      ],
      "execution_count": null,
      "outputs": []
    },
    {
      "cell_type": "markdown",
      "metadata": {
        "id": "2ExQrrs2z7do"
      },
      "source": [
        "Dictionary_task1"
      ]
    },
    {
      "cell_type": "code",
      "metadata": {
        "id": "95z8tinlz-F6",
        "colab": {
          "base_uri": "https://localhost:8080/"
        },
        "outputId": "06dc425e-7e05-4ba5-d70b-19c2964940a8"
      },
      "source": [
        "d1={}\n",
        "d2={}\n",
        "\n",
        "data=input().split(\",\")\n",
        "\n",
        "data1=input().split(\",\")\n",
        "\n",
        "for i in range(len(data)):\n",
        "    t1=data[i].split(\":\")\n",
        "    d1[t1[0]]=int(t1[1])\n",
        "\n",
        "for i in range(len(data1)):\n",
        "    t1=data1[i].split(\":\")\n",
        "    d2[t1[0]]=int(t1[1])\n",
        "\n",
        "for i in d1:\n",
        "    if i in d2:\n",
        "        d1[i]=d1[i]+d2.get(i)\n",
        "    else:\n",
        "        pass\n",
        "for i in d2:\n",
        "    if i in d1:\n",
        "        pass\n",
        "    else:\n",
        "        d1[i]=d2.get(i)\n",
        "print(d1)\n",
        "\n",
        "new_tup=()\n",
        "\n",
        "for i in sorted(d1.values()):\n",
        "    if i in new_tup:\n",
        "        pass\n",
        "    else:\n",
        "        new_tup=new_tup+(i,)\n",
        "print(new_tup)"
      ],
      "execution_count": null,
      "outputs": [
        {
          "output_type": "stream",
          "text": [
            "a: 100, b: 100, c: 200, d: 300\n",
            "a: 300, b: 200, d: 400, e: 200\n",
            "{'a': 300, ' b': 200, ' d': 400, ' e': 200}\n",
            "(200, 300, 400)\n"
          ],
          "name": "stdout"
        }
      ]
    },
    {
      "cell_type": "markdown",
      "metadata": {
        "id": "KemTEU4R0Cr5"
      },
      "source": [
        "Dictionary_task2"
      ]
    },
    {
      "cell_type": "code",
      "metadata": {
        "id": "wFmX-VSl0E4_"
      },
      "source": [
        "d={}\n",
        "\n",
        "while True:\n",
        "    a=input()\n",
        "    if a=='STOP':\n",
        "      break\n",
        "    a=int(a)\n",
        "    if a in d:\n",
        "        d[a]+=1\n",
        "    else:\n",
        "        d[a]=1\n",
        "for x,n in d.items():\n",
        "    print(x,\"-\",n,\"times\")"
      ],
      "execution_count": null,
      "outputs": []
    },
    {
      "cell_type": "markdown",
      "metadata": {
        "id": "Fgke4AQ50ILT"
      },
      "source": [
        "Dictionary_task3"
      ]
    },
    {
      "cell_type": "code",
      "metadata": {
        "id": "rdgUzlOZ0Kyl"
      },
      "source": [
        "d={}\n",
        "a=input().split(\",\")\n",
        "\n",
        "for i in a:\n",
        "    i=i.split(\":\")\n",
        "    if i[1] not in d:\n",
        "        d[i[1]]=[i[0]]\n",
        "    else:\n",
        "        d[i[1]].append(i[0])\n",
        "print(d)\n",
        "        \n",
        "\n"
      ],
      "execution_count": null,
      "outputs": []
    },
    {
      "cell_type": "markdown",
      "metadata": {
        "id": "fFTPz0ue0NYD"
      },
      "source": [
        "Dictionar_Task4"
      ]
    },
    {
      "cell_type": "code",
      "metadata": {
        "id": "JtYi0IXO0QhY"
      },
      "source": [
        "a=input()\n",
        "b=input()\n",
        "d1={}\n",
        "d2={}\n",
        "for i in a:\n",
        "    if i not in d1:\n",
        "         d1[i]=1 #if they are not in dictionary then we set the occurance 1 \n",
        "    else:\n",
        "        d1[i]+=1\n",
        "for i in b:\n",
        "    if i not in d2:\n",
        "         d2[i]=1\n",
        "    else:\n",
        "        d2[i]+=1\n",
        "if d1==d2:\n",
        "    print(\"Those strings are anagrams.\")\n",
        "else:\n",
        "    print(\"Those strings are not anagrams.\")\n",
        "print(d1)"
      ],
      "execution_count": null,
      "outputs": []
    },
    {
      "cell_type": "markdown",
      "metadata": {
        "id": "IKScoXj50Vae"
      },
      "source": [
        "Dictionary_task5"
      ]
    },
    {
      "cell_type": "code",
      "metadata": {
        "id": "VmD7tQ-C0Xrp"
      },
      "source": [
        "d={1:['.',',','?','!',':'],2:['A','B','C'],3:['D','E','F'],4:['G','H','I'],5:['J','K','L'],6:['M','N','O'],7:['P','Q','R','S'],\n",
        "   8:['T','U','V'],9:['W','X','Y','Z'],0:[\" \"]}\n",
        "\n",
        "a=input()\n",
        "number=\"\"\n",
        "for i in a:\n",
        "    i.upper()\n",
        "    for key,value in d.items():\n",
        "        if i.upper() in value:\n",
        "            number+=str(key)*(value.index(i.upper())+1)\n",
        "print(number)"
      ],
      "execution_count": null,
      "outputs": []
    }
  ]
}