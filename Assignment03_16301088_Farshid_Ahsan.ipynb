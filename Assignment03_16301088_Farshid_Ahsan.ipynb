{
  "nbformat": 4,
  "nbformat_minor": 0,
  "metadata": {
    "colab": {
      "name": "Assignment03_16301088_Farshid Ahsan.ipynb",
      "provenance": [],
      "collapsed_sections": [],
      "authorship_tag": "ABX9TyNSRP2XqDCCwIlhCkqPB6Tz",
      "include_colab_link": true
    },
    "kernelspec": {
      "name": "python3",
      "display_name": "Python 3"
    }
  },
  "cells": [
    {
      "cell_type": "markdown",
      "metadata": {
        "id": "view-in-github",
        "colab_type": "text"
      },
      "source": [
        "<a href=\"https://colab.research.google.com/github/Farshid-997/Colab-Python_problem-Solve/blob/main/Assignment03_16301088_Farshid_Ahsan.ipynb\" target=\"_parent\"><img src=\"https://colab.research.google.com/assets/colab-badge.svg\" alt=\"Open In Colab\"/></a>"
      ]
    },
    {
      "cell_type": "markdown",
      "metadata": {
        "id": "4bKXSvSzYZVo"
      },
      "source": [
        "Task1"
      ]
    },
    {
      "cell_type": "code",
      "metadata": {
        "colab": {
          "base_uri": "https://localhost:8080/"
        },
        "id": "0MuEaeJ8Yb6S",
        "outputId": "4e7a4b21-fc63-47e7-9313-98e12228c6ce"
      },
      "source": [
        "class DataType:\n",
        "    def __init__(self,data_type,data):\n",
        "       self.data_type=data_type\n",
        "       self.data=data\n",
        "    \n",
        "    \n",
        "s1=DataType('Integer',1234)\n",
        "s2=DataType('String','Hello')\n",
        "s3=DataType('Float', 4.0)\n",
        "\n",
        "\n",
        "print(s1.data_type)\n",
        "print(s1.data)\n",
        "\n",
        "print(\"===============\")\n",
        "\n",
        "print(s2.data_type)\n",
        "print(s2.data)\n",
        "\n",
        "print(\"===============\")\n",
        "\n",
        "print(s3.data_type)\n",
        "print(s3.data)\n"
      ],
      "execution_count": null,
      "outputs": [
        {
          "output_type": "stream",
          "text": [
            "Integer\n",
            "1234\n",
            "===============\n",
            "String\n",
            "Hello\n",
            "===============\n",
            "Float\n",
            "4.0\n"
          ],
          "name": "stdout"
        }
      ]
    },
    {
      "cell_type": "markdown",
      "metadata": {
        "id": "7h4JhbOlYhJn"
      },
      "source": [
        "Task2"
      ]
    },
    {
      "cell_type": "code",
      "metadata": {
        "colab": {
          "base_uri": "https://localhost:8080/"
        },
        "id": "GBUFHQ7PYiUP",
        "outputId": "7e561194-0934-430a-f003-350d4a06d6f5"
      },
      "source": [
        "class Flower:\n",
        "    def __init__(self,name,color,petal_number):\n",
        "        self.name=name\n",
        "        self.color=color\n",
        "        self.num=petal_number\n",
        "        \n",
        "flower1=Flower(\"Rose\",\"Red\",6)\n",
        "flower2=Flower(\"Orchid\",\"Purple\",4)     \n",
        "\n",
        "\n",
        "print(\"Name of the flower:\",flower1.name) \n",
        "print(\"Color of this flower:\",flower1.color) \n",
        "print(\"Number of petal:\",flower1.num) \n",
        "\n",
        "\n",
        "print(\"=====================\")\n",
        "\n",
        "\n",
        "print(\"Name of the flower:\",flower2.name) \n",
        "print(\"Color of this flower:\",flower2.color) \n",
        "print(\"Number of petal:\",flower2.num) \n",
        "\n",
        "print(flower1)\n",
        "\n",
        "print(flower2)\n",
        "\n",
        "if flower1==flower2:\n",
        "    print(\"they are same\")\n",
        "else:\n",
        "    print(\"they are different\")"
      ],
      "execution_count": null,
      "outputs": [
        {
          "output_type": "stream",
          "text": [
            "Name of the flower: Rose\n",
            "Color of this flower: Red\n",
            "Number of petal: 6\n",
            "=====================\n",
            "Name of the flower: Orchid\n",
            "Color of this flower: Purple\n",
            "Number of petal: 4\n",
            "<__main__.Flower object at 0x7fa42cc634d0>\n",
            "<__main__.Flower object at 0x7fa42cc63590>\n",
            "they are different\n"
          ],
          "name": "stdout"
        }
      ]
    },
    {
      "cell_type": "markdown",
      "metadata": {
        "id": "b3qoqf3YYupT"
      },
      "source": [
        "Task3"
      ]
    },
    {
      "cell_type": "code",
      "metadata": {
        "colab": {
          "base_uri": "https://localhost:8080/"
        },
        "id": "YkhCyal3YxMA",
        "outputId": "86d19471-74ab-49a1-98c0-ba30989b7e66"
      },
      "source": [
        "class Wadiya:\n",
        "    def __init__(self):\n",
        "           self.name = 'Aladeen'\n",
        "           self.designation = 'President Prime Minister Admiral General'\n",
        "           self.num_of_wife = 100\n",
        "           self.dictator = True\n",
        "        \n",
        "Wadiya=Wadiya()\n",
        "\n",
        "print(\"Part 1:\")\n",
        "\n",
        "\n",
        "print(\"Name of President:\",Wadiya.name)\n",
        "\n",
        "check1=Wadiya.name \n",
        "print(\"Designation:\",Wadiya.designation)\n",
        "print(\"Number of wife:\",Wadiya.num_of_wife)\n",
        "print(\"Is he/she a dictator:\",Wadiya.dictator)\n",
        "\n",
        "print(\"Part 2:\")\n",
        "\n",
        "Wadiya.name=\"Donald Trump\"\n",
        "Wadiya.designation=\"President\"\n",
        "Wadiya.num_of_wife=1\n",
        "Wadiya.dictator=False\n",
        "\n",
        "print(\"Name of President:\",Wadiya.name)\n",
        "\n",
        "check2=Wadiya.name\n",
        "print(\"Designation:\",Wadiya.designation)\n",
        "print(\"Number of wife:\",Wadiya.num_of_wife)\n",
        "print(\"Is he/she a dictator:\",Wadiya.dictator)\n",
        "\n",
        "\n",
        "if check1==check2:\n",
        "    print(\"No,changing had no effect on previous value\")\n",
        "else:\n",
        "    print(\"previous information lost\")"
      ],
      "execution_count": null,
      "outputs": [
        {
          "output_type": "stream",
          "text": [
            "Part 1:\n",
            "Name of President: Aladeen\n",
            "Designation: President Prime Minister Admiral General\n",
            "Number of wife: 100\n",
            "Is he/she a dictator: True\n",
            "Part 2:\n",
            "Name of President: Donald Trump\n",
            "Designation: President\n",
            "Number of wife: 1\n",
            "Is he/she a dictator: False\n",
            "previous information lost\n"
          ],
          "name": "stdout"
        }
      ]
    },
    {
      "cell_type": "markdown",
      "metadata": {
        "id": "e2TcbzhKY0Rj"
      },
      "source": [
        "Task4"
      ]
    },
    {
      "cell_type": "code",
      "metadata": {
        "colab": {
          "base_uri": "https://localhost:8080/"
        },
        "id": "fIKLUECuY1h7",
        "outputId": "7a188f3f-6981-4e2e-ee4c-77b20f157527"
      },
      "source": [
        "class Jokers:\n",
        "    def __init__(self,name,power,is_he_psycho):\n",
        "        self.name=name\n",
        "        self.power=power\n",
        "        self.is_he_psycho=is_he_psycho\n",
        "        \n",
        "j1=Jokers(\"Heath ledger\",\"Mind Game\",False)\n",
        "j2=Jokers(\"Joaquin Phoenix\",\"Laughing out Loud\",True)\n",
        "print(j1.name)\n",
        "print(j1.power)\n",
        "print(j1.is_he_psycho)\n",
        "\n",
        "print(\"########################\")\n",
        "\n",
        "print(j2.name)\n",
        "print(j2.power)\n",
        "print(j2.is_he_psycho)\n",
        "\n",
        "if j1==j2:\n",
        "    print(\"same\")\n",
        "else:\n",
        "    print(\"different\")\n",
        "    \n",
        "j2.name=\"Heath ledger\"\n",
        "\n",
        "if j1.name==j2.name:\n",
        "    print(\"same\")\n",
        "else:\n",
        "    print(\"different\")\n",
        "    \n",
        "#### First Explanation:   \n",
        "#The first output will be different beacuse when we create two objects it has different,\n",
        "  \n",
        "#memory location so its reference would be different thats why output shows different\n",
        "\n",
        "\n",
        "#### Second Explanation:\n",
        "    \n",
        "#the second if else block prints output same beacause at first j1.name and j2.name are different but we chnaged j2.name \n",
        "#as same j1.name thats why it prints the output same."
      ],
      "execution_count": null,
      "outputs": [
        {
          "output_type": "stream",
          "text": [
            "Heath ledger\n",
            "Mind Game\n",
            "False\n",
            "########################\n",
            "Joaquin Phoenix\n",
            "Laughing out Loud\n",
            "True\n",
            "different\n",
            "same\n"
          ],
          "name": "stdout"
        }
      ]
    },
    {
      "cell_type": "markdown",
      "metadata": {
        "id": "CJxA7s6ZY5AD"
      },
      "source": [
        "Task5"
      ]
    },
    {
      "cell_type": "code",
      "metadata": {
        "colab": {
          "base_uri": "https://localhost:8080/"
        },
        "id": "A0yYOXPvY6WT",
        "outputId": "4fd37852-6805-42bb-eef3-cc471e76ffc4"
      },
      "source": [
        "class Pokemon:\n",
        "    def __init__(self,pokemon1_name,pokemon2_name,pokemon1_power,pokemon2_power,damage_rate):\n",
        "        self.pokemon1_name=pokemon1_name\n",
        "        self.pokemon2_name=pokemon2_name\n",
        "        self.pokemon1_power=pokemon1_power\n",
        "        self.pokemon2_power=pokemon2_power\n",
        "        self.damage_rate=damage_rate\n",
        "team_pika = Pokemon('pikachu', 'charmander', 90, 60, 10)\n",
        "print('=======Team 1=======')\n",
        "\n",
        "print('Pokemon 1:',team_pika.pokemon1_name,\n",
        "team_pika.pokemon1_power)\n",
        "\n",
        "print('Pokemon 2:',team_pika.pokemon2_name,\n",
        "team_pika.pokemon2_power)\n",
        "\n",
        "pika_combined_power = (team_pika.pokemon1_power +\n",
        "team_pika.pokemon2_power) * team_pika.damage_rate\n",
        "print('Combined Power:', pika_combined_power)\n",
        "\n",
        "print('=======Team 2=======')\n",
        "\n",
        "team_bulb=Pokemon('bulbasaur', 'squirtle', 80, 70,9)\n",
        "\n",
        "print('Pokemon 2:',team_bulb.pokemon1_name,\n",
        "team_bulb.pokemon1_power)\n",
        "\n",
        "print('Pokemon 2:',team_bulb.pokemon2_name,\n",
        "team_bulb.pokemon2_power)\n",
        "\n",
        "team_bulb_combined_power = (team_bulb.pokemon1_power +\n",
        "team_bulb.pokemon2_power) *team_bulb.damage_rate\n",
        "print('Combined Power:', team_bulb_combined_power)"
      ],
      "execution_count": null,
      "outputs": [
        {
          "output_type": "stream",
          "text": [
            "=======Team 1=======\n",
            "Pokemon 1: pikachu 90\n",
            "Pokemon 2: charmander 60\n",
            "Combined Power: 1500\n",
            "=======Team 2=======\n",
            "Pokemon 2: bulbasaur 80\n",
            "Pokemon 2: squirtle 70\n",
            "Combined Power: 1350\n"
          ],
          "name": "stdout"
        }
      ]
    },
    {
      "cell_type": "markdown",
      "metadata": {
        "id": "ZpuHFSioY9UU"
      },
      "source": [
        "Task6"
      ]
    },
    {
      "cell_type": "code",
      "metadata": {
        "colab": {
          "base_uri": "https://localhost:8080/"
        },
        "id": "eiHWLzfCY_Y7",
        "outputId": "2ae5d3c4-81f6-48f6-e712-2f8029681a17"
      },
      "source": [
        "class Player:\n",
        "    def __init__(self):\n",
        "        self.name=''\n",
        "        self.jersy_number=0\n",
        "        self.position=''\n",
        "        \n",
        "player1=Player()\n",
        "player1.name = \"Ronaldo\"\n",
        "player1.jersy_number = 9\n",
        "player1.position = \"Striker\"\n",
        "print(\"Name of the Player:\", player1.name)\n",
        "print(\"Jersey Number of player:\", player1.jersy_number)\n",
        "print(\"Position of player:\", player1.position)\n",
        "\n",
        "print(\"===========================\")\n",
        "player2 = Player()\n",
        "player2.name = \"Neuer\"\n",
        "player2.jersy_number = 1\n",
        "player2.position = \"Goal Keeper\"\n",
        "print(\"Name of the player:\", player2.name)\n",
        "print(\"Jersey Number of player:\", player2.jersy_number)\n",
        "print(\"Position of player:\", player2.position)"
      ],
      "execution_count": null,
      "outputs": [
        {
          "output_type": "stream",
          "text": [
            "Name of the Player: Ronaldo\n",
            "Jersey Number of player: 9\n",
            "Position of player: Striker\n",
            "===========================\n",
            "Name of the player: Neuer\n",
            "Jersey Number of player: 1\n",
            "Position of player: Goal Keeper\n"
          ],
          "name": "stdout"
        }
      ]
    },
    {
      "cell_type": "markdown",
      "metadata": {
        "id": "HtUwAZEbZCE2"
      },
      "source": [
        "Task7"
      ]
    },
    {
      "cell_type": "code",
      "metadata": {
        "colab": {
          "base_uri": "https://localhost:8080/"
        },
        "id": "uc6JovnXZJBo",
        "outputId": "9703c6ae-8438-4bfe-c3fa-2b5dc509efd4"
      },
      "source": [
        "class Country:\n",
        "    def __init__(self):\n",
        "        self.name=\"Bangladesh\"\n",
        "        self.continent=\"Asia\"\n",
        "        self.capital=\"Dhaka\"\n",
        "        self.fifa_ranking=187\n",
        "        \n",
        "country=Country()\n",
        "\n",
        "print('Name:',country.name)\n",
        "print('Continent:',country.continent)\n",
        "print('Capital:',country.capital)\n",
        "print('Fifa Ranking:',country.fifa_ranking)\n",
        "print('===================')\n",
        "\n",
        "country.name=\"Belgium\"\n",
        "country.continent=\"Europe\"\n",
        "country.capital=\"Brussels\"\n",
        "country.fifa_ranking=1\n",
        "\n",
        "print('Name:',country.name)\n",
        "print('Continent:',country.continent)\n",
        "print('Capital:',country.capital)\n",
        "print('Fifa Ranking:',country.fifa_ranking)"
      ],
      "execution_count": null,
      "outputs": [
        {
          "output_type": "stream",
          "text": [
            "Name: Bangladesh\n",
            "Continent: Asia\n",
            "Capital: Dhaka\n",
            "Fifa Ranking: 187\n",
            "===================\n",
            "Name: Belgium\n",
            "Continent: Europe\n",
            "Capital: Brussels\n",
            "Fifa Ranking: 1\n"
          ],
          "name": "stdout"
        }
      ]
    },
    {
      "cell_type": "markdown",
      "metadata": {
        "id": "yHkSbqSDZJ_r"
      },
      "source": [
        "Task8"
      ]
    },
    {
      "cell_type": "code",
      "metadata": {
        "colab": {
          "base_uri": "https://localhost:8080/"
        },
        "id": "YaYB7B8LZLFP",
        "outputId": "543125b0-bcf0-4bbf-de80-5fba6952e362"
      },
      "source": [
        "class DemonSlayer:\n",
        "    def __init__(self,name,style,number_of_technique,kill):\n",
        "        self.name=name\n",
        "        self.style=style\n",
        "        self.number_of_technique=number_of_technique\n",
        "        self.kill=kill\n",
        "tanjiro = DemonSlayer(\"Tanjiro\", \"Water Breathing\", 10, 10)\n",
        "print('Name:',tanjiro.name)\n",
        "print('Fighting Style:',tanjiro.style)\n",
        "print(f'Knows {tanjiro.number_of_technique} technique(s) and has killed {tanjiro.kill} demon(s)')\n",
        "\n",
        "print('===================')\n",
        "\n",
        "zenitsu = DemonSlayer(\"Zenitsu\", \"Thunder Breathing\", 1, 4)\n",
        "print('Name:',zenitsu.name)\n",
        "print('Fighting Style:',zenitsu.style)\n",
        "print(f'Knows {zenitsu.number_of_technique} technique(s) and has killed {zenitsu.kill} demon(s)')\n",
        "print('===================')\n",
        "\n",
        "inosuke = DemonSlayer(\"Inosuke\", \"Beast Breathing\", 5, 7)\n",
        "print('Name:',inosuke.name)\n",
        "print('Fighting Style:',inosuke.style)\n",
        "print(f'Knows {inosuke.number_of_technique} technique(s) and has killed {inosuke.kill} demon(s)')\n",
        "\n",
        "\n",
        "print('===================')\n",
        "\n",
        "\n",
        "print(f'{tanjiro.name}, {zenitsu.name}, {inosuke.name} knows total {tanjiro.number_of_technique + zenitsu.number_of_technique+ inosuke.number_of_technique} techniques')\n",
        "print(f'They have killed total {tanjiro.kill + zenitsu.kill + inosuke.kill} demons')"
      ],
      "execution_count": null,
      "outputs": [
        {
          "output_type": "stream",
          "text": [
            "Name: Tanjiro\n",
            "Fighting Style: Water Breathing\n",
            "Knows 10 technique(s) and has killed 10 demon(s)\n",
            "===================\n",
            "Name: Zenitsu\n",
            "Fighting Style: Thunder Breathing\n",
            "Knows 1 technique(s) and has killed 4 demon(s)\n",
            "===================\n",
            "Name: Inosuke\n",
            "Fighting Style: Beast Breathing\n",
            "Knows 5 technique(s) and has killed 7 demon(s)\n",
            "===================\n",
            "Tanjiro, Zenitsu, Inosuke knows total 16 techniques\n",
            "They have killed total 21 demons\n"
          ],
          "name": "stdout"
        }
      ]
    }
  ]
}