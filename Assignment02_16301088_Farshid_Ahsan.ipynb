{
  "nbformat": 4,
  "nbformat_minor": 0,
  "metadata": {
    "colab": {
      "name": "Assignment02_16301088_Farshid Ahsan.ipynb",
      "provenance": [],
      "collapsed_sections": [],
      "authorship_tag": "ABX9TyO7OMUQkviuXQNEV1JQzyRs",
      "include_colab_link": true
    },
    "kernelspec": {
      "name": "python3",
      "display_name": "Python 3"
    }
  },
  "cells": [
    {
      "cell_type": "markdown",
      "metadata": {
        "id": "view-in-github",
        "colab_type": "text"
      },
      "source": [
        "<a href=\"https://colab.research.google.com/github/Farshid-997/Colab-Python_problem-Solve/blob/main/Assignment02_16301088_Farshid_Ahsan.ipynb\" target=\"_parent\"><img src=\"https://colab.research.google.com/assets/colab-badge.svg\" alt=\"Open In Colab\"/></a>"
      ]
    },
    {
      "cell_type": "markdown",
      "metadata": {
        "id": "Pm70DTq5edBu"
      },
      "source": [
        "Task01"
      ]
    },
    {
      "cell_type": "code",
      "metadata": {
        "colab": {
          "base_uri": "https://localhost:8080/"
        },
        "id": "9StewPBrejxg",
        "outputId": "16cf7c13-42df-4206-84b4-fbfd98576ba1"
      },
      "source": [
        "a,b=input().split(\",\")\n",
        "a=int(a)\n",
        "b=int(b)\n",
        "def  div_func(x,y):\n",
        "    if x==0:\n",
        "     print(0)\n",
        "    elif y==0:\n",
        "       print(0)\n",
        "    else:\n",
        "        print((a/b)-(a//b))\n",
        "div_func(a,b)"
      ],
      "execution_count": null,
      "outputs": [
        {
          "output_type": "stream",
          "text": [
            "5,0\n",
            "0\n"
          ],
          "name": "stdout"
        }
      ]
    },
    {
      "cell_type": "markdown",
      "metadata": {
        "id": "2qTVJHPWeo4v"
      },
      "source": [
        "Task2"
      ]
    },
    {
      "cell_type": "code",
      "metadata": {
        "colab": {
          "base_uri": "https://localhost:8080/"
        },
        "id": "Db-LF-bWerjC",
        "outputId": "9095390c-f960-4cb9-bb02-ebdc63ae2c46"
      },
      "source": [
        "a,b=input().split(\",\")\n",
        "a=int(a)\n",
        "b=int(b)\n",
        "def health_check(height,weight):\n",
        "   \n",
        "    score=weight/(height/100)**2\n",
        "    \n",
        "    if score<18.5:\n",
        "       print(str(\"Score is \")+\"%.1f\" %score+str(\". You are Underweight\"))\n",
        "    elif score>=18.5 and score<=24.9:\n",
        "        print(str(\"Score is \")+\"%.1f\" %score+str(\". You are Normal\"))\n",
        "    elif score>=25 and score<=30:\n",
        "         print(str(\"Score is \")+\"%.1f\" %score+str(\". You are Overweight\"))\n",
        "    else:\n",
        "        print(str(\"Score is \")+\"%.1f\" %score+str(\". You are Obese\"))\n",
        "       \n",
        "health_check(a,b)"
      ],
      "execution_count": null,
      "outputs": [
        {
          "output_type": "stream",
          "text": [
            "175,96\n",
            "Score is 31.3. You are Obese\n"
          ],
          "name": "stdout"
        }
      ]
    },
    {
      "cell_type": "markdown",
      "metadata": {
        "id": "yxoCKeWUewU2"
      },
      "source": [
        "Task3"
      ]
    },
    {
      "cell_type": "code",
      "metadata": {
        "colab": {
          "base_uri": "https://localhost:8080/"
        },
        "id": "Bw8OEviBezAA",
        "outputId": "b2d8aa34-9fa7-4a55-a100-e87b90f2ef76"
      },
      "source": [
        "x,y,z=input().split(\",\")\n",
        "x=int(x)\n",
        "y=int(y)\n",
        "z=int(z)\n",
        "def div_func(min,max,divisor):\n",
        "    \n",
        "    counter=0\n",
        "    for i in range(min,max):\n",
        "        if i%divisor==0:\n",
        "            counter=counter+i\n",
        "    return counter\n",
        "    \n",
        "print(div_func(x,y,z))\n"
      ],
      "execution_count": null,
      "outputs": [
        {
          "output_type": "stream",
          "text": [
            "0,10,2\n",
            "20\n"
          ],
          "name": "stdout"
        }
      ]
    },
    {
      "cell_type": "markdown",
      "metadata": {
        "id": "QiUYFk1Ce7Ja"
      },
      "source": [
        "Task4"
      ]
    },
    {
      "cell_type": "code",
      "metadata": {
        "colab": {
          "base_uri": "https://localhost:8080/"
        },
        "id": "OXWUNf4de8pb",
        "outputId": "2198b852-4ea4-40b8-e122-7c9a4b2da344"
      },
      "source": [
        "a,b=input().split(\",\")\n",
        "def food_order(burger,place=\"Mohakhali\"):\n",
        "   price=0\n",
        "   if a==\"BBQ Chicken Cheese Burger\":\n",
        "       price=price+250\n",
        "   if a=='Beef Burger':\n",
        "       price=price+170\n",
        "   if a=='Naga Drums':\n",
        "       price=price+200\n",
        "   tax_price=price+(price*(8/100))\n",
        "   if  b=='Mohakhali':\n",
        "      total_price=tax_price+40\n",
        "      print(total_price)\n",
        "   else:\n",
        "       total_price= tax_price+60\n",
        "       print(total_price)\n",
        "food_order(a,b)"
      ],
      "execution_count": null,
      "outputs": [
        {
          "output_type": "stream",
          "text": [
            "Beef Burger, Dhanmondi\n",
            "243.6\n"
          ],
          "name": "stdout"
        }
      ]
    },
    {
      "cell_type": "markdown",
      "metadata": {
        "id": "xYn8skqcfBsV"
      },
      "source": [
        "Task5"
      ]
    },
    {
      "cell_type": "code",
      "metadata": {
        "colab": {
          "base_uri": "https://localhost:8080/"
        },
        "id": "cIh6TRQpfCvw",
        "outputId": "cd26a475-f7f1-4044-e475-ad7371d19f90"
      },
      "source": [
        "user_input_domain=input()\n",
        "def replace_domain(user_input_domain,new_domain,old_domain=\"kaaj.com\"):\n",
        "      if new_domain in user_input_domain:\n",
        "          print(\"Unchanged:\",user_input_domain)\n",
        "      else:\n",
        "          str_email=\"\"\n",
        "          for i in user_input_domain:\n",
        "              if i=='@':\n",
        "                 str_email=str_email+i\n",
        "                 break\n",
        "              str_email=str_email+i\n",
        "          user_input_domain=str_email+new_domain\n",
        "          print(\"changed:\",user_input_domain)\n",
        "replace_domain(user_input_domain, \"sheba.xyz\")"
      ],
      "execution_count": null,
      "outputs": [
        {
          "output_type": "stream",
          "text": [
            "alice@kaaj.com\n",
            "changed: alice@sheba.xyz\n"
          ],
          "name": "stdout"
        }
      ]
    },
    {
      "cell_type": "markdown",
      "metadata": {
        "id": "lncTQkeMfGdy"
      },
      "source": [
        "Task6"
      ]
    },
    {
      "cell_type": "code",
      "metadata": {
        "colab": {
          "base_uri": "https://localhost:8080/"
        },
        "id": "sNf_GMkvfHsw",
        "outputId": "4c240c6f-cb59-4947-8da9-95e73780baf5"
      },
      "source": [
        "vowel=input()\n",
        "def find_vowel(x):\n",
        "    counter=0\n",
        "    vow_str=\"\"\n",
        "    vow=\"a,e,i,o,u,A,E,I,O,U\"\n",
        "    for i in vowel:\n",
        "       for j in vow:\n",
        "           if i==j:\n",
        "               counter=counter+1\n",
        "               vow_str=vow_str+i\n",
        "    if counter>0:\n",
        "        print(\"Vowels:\",vow_str,\"Total Number of vowels:\",counter)\n",
        "    else:\n",
        "        print(\"No vowels in the name\")\n",
        "find_vowel(vowel)"
      ],
      "execution_count": null,
      "outputs": [
        {
          "output_type": "stream",
          "text": [
            "XYZ\n",
            "No vowels in the name\n"
          ],
          "name": "stdout"
        }
      ]
    },
    {
      "cell_type": "markdown",
      "metadata": {
        "id": "QgwGUW-DfMb4"
      },
      "source": [
        "Task7"
      ]
    },
    {
      "cell_type": "code",
      "metadata": {
        "colab": {
          "base_uri": "https://localhost:8080/"
        },
        "id": "HpGnFL-VfOo6",
        "outputId": "1cef68e3-026c-4ae4-a7c6-82a10306f0ef"
      },
      "source": [
        "w=input()\n",
        "\n",
        "def pal_check(x):\n",
        "    rev_word=\"\"\n",
        "    for i in w[::-1]:\n",
        "        if i==\" \":\n",
        "             i.replace(\" \",\"\")\n",
        "            \n",
        "        else:\n",
        "            rev_word=rev_word+i\n",
        "    rev_word1=\"\"\n",
        "    for j in w:\n",
        "            if j==\" \":\n",
        "                i.replace(\" \", \"\")\n",
        "            else:\n",
        "                 rev_word1=rev_word1+j\n",
        "    if rev_word==rev_word1:\n",
        "        print(\"Palindrome\")\n",
        "    else:\n",
        "        print(\"Not a Palindrome\")\n",
        "pal_check(w)"
      ],
      "execution_count": null,
      "outputs": [
        {
          "output_type": "stream",
          "text": [
            "nurses run\n",
            "Palindrome\n"
          ],
          "name": "stdout"
        }
      ]
    },
    {
      "cell_type": "markdown",
      "metadata": {
        "id": "uif3sqAlfSA_"
      },
      "source": [
        "Task8"
      ]
    },
    {
      "cell_type": "code",
      "metadata": {
        "colab": {
          "base_uri": "https://localhost:8080/"
        },
        "id": "74FRF4fkfTvE",
        "outputId": "a7a3e151-31a5-4dc0-c2a5-835f90ab4f95"
      },
      "source": [
        "def years_finding():\n",
        "    number=int(input())\n",
        "    years=number//365\n",
        "    number=number%365\n",
        "    \n",
        "    month=number//30\n",
        "   \n",
        "    days=number%30\n",
        "   \n",
        "    print(years,\"years,\",month,\"months\",\"and\",days,\"days\")\n",
        "years_finding()  \n"
      ],
      "execution_count": null,
      "outputs": [
        {
          "output_type": "stream",
          "text": [
            "4320\n",
            "11 years, 10 months and 5 days\n"
          ],
          "name": "stdout"
        }
      ]
    },
    {
      "cell_type": "markdown",
      "metadata": {
        "id": "OBFjgYxAyURJ"
      },
      "source": [
        "Task9"
      ]
    },
    {
      "cell_type": "code",
      "metadata": {
        "colab": {
          "base_uri": "https://localhost:8080/"
        },
        "id": "uT4atJR3yVkq",
        "outputId": "8a6fe8fc-7da5-4085-e6a6-0cdbedfe4f08"
      },
      "source": [
        "w=input(\"\")\n",
        "def cap_convert(s):\n",
        "    new_str = ''\n",
        "    new_str+= s[0].upper() #capitalize the first letter of a sentence\n",
        "    x = 1\n",
        "\n",
        "    while x < len(s)-2:\n",
        "        new_str +=s[x]\n",
        "        if s[x] == '.' or s[x] == '?' or s[x] == '!': \n",
        "            new_str += ' '\n",
        "            new_str += s[x+2].upper()\n",
        "            x = x+3\n",
        "        else:\n",
        "           if x == len(s)-3:\n",
        "               new_str += s[len(s)-2:len(s)]\n",
        "           x = x+1\n",
        "    print(new_str)\n",
        "cap_convert(w)\n",
        "\n"
      ],
      "execution_count": null,
      "outputs": [
        {
          "output_type": "stream",
          "text": [
            "my favourite animal is a dog. a dog has sharp teeth so that it can eat flesh very easily. do you know my pet dog’s name? i love my pet very much\n",
            "My favourite animal is a dog. A dog has sharp teeth so that it can eat flesh very easily. Do you know my pet dog’s name? I love my pet very much\n"
          ],
          "name": "stdout"
        }
      ]
    }
  ]
}