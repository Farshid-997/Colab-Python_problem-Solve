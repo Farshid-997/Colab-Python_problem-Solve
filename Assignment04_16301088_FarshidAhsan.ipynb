{
  "nbformat": 4,
  "nbformat_minor": 0,
  "metadata": {
    "colab": {
      "name": "Assignment04_16301088_FarshidAhsan.ipynb",
      "provenance": [],
      "collapsed_sections": [],
      "authorship_tag": "ABX9TyPx2Z3suJOVTf9HB9NyNjIG",
      "include_colab_link": true
    },
    "kernelspec": {
      "name": "python3",
      "display_name": "Python 3"
    },
    "language_info": {
      "name": "python"
    }
  },
  "cells": [
    {
      "cell_type": "markdown",
      "metadata": {
        "id": "view-in-github",
        "colab_type": "text"
      },
      "source": [
        "<a href=\"https://colab.research.google.com/github/Farshid-997/Colab-Python_problem-Solve/blob/main/Assignment04_16301088_FarshidAhsan.ipynb\" target=\"_parent\"><img src=\"https://colab.research.google.com/assets/colab-badge.svg\" alt=\"Open In Colab\"/></a>"
      ]
    },
    {
      "cell_type": "markdown",
      "metadata": {
        "id": "wNpPU1ZLJaPB"
      },
      "source": [
        "Task3"
      ]
    },
    {
      "cell_type": "code",
      "metadata": {
        "colab": {
          "base_uri": "https://localhost:8080/"
        },
        "id": "yRx64JZUJbm5",
        "outputId": "441fbf1e-7e21-4930-ada5-ce536369917c"
      },
      "source": [
        "class Panda:\n",
        "    def __init__(self,name,gender,age):\n",
        "        self.name=name\n",
        "        self.gender=gender\n",
        "        self.age=age\n",
        "    def sleep(self,hour=None):\n",
        "        if hour==None:\n",
        "          return self.name+\"duration is unknown thus should have only bamboo leaves\"\n",
        "        elif hour>=3 and hour<=5:\n",
        "            return \"self.name\" +\"sleeps\", hour ,\"hours daily and should have Mixed Veggies\"\n",
        "        elif hour>=6 and hour<=8:\n",
        "              return self.name +\" sleeps\", hour ,\"hours daily and should have Eggplant & Tofu\"\n",
        "          \n",
        "        elif hour>=9 and hour<=11:\n",
        "              return self.name +\" sleeps \", hour ,\"hours daily and should have Broccoli Chicken\"\n",
        "          \n",
        "panda1 = Panda(\"Kunfu\",\"Male\", 5)\n",
        "panda2=Panda(\"Pan Pan\",\"Female\",3)\n",
        "panda3=Panda(\"Ming Ming\",\"Female\",8)\n",
        "\n",
        "print(\"{} is a {} Panda Bear who is {} years old\".format(panda1.name,panda1.gender,panda1.age))\n",
        "\n",
        "print(\"{} is a {} Panda Bear who is {} years old\".format(panda2.name,panda2.gender,panda2.age))\n",
        "\n",
        "print(\"{} is a {} Panda Bear who is {} years old\".format(panda3.name,panda3.gender,panda3.age))\n",
        "\n",
        "print(\"===========================\")\n",
        "print(panda2.sleep(10))\n",
        "print(panda1.sleep(4))\n",
        "print(panda3.sleep())"
      ],
      "execution_count": null,
      "outputs": [
        {
          "output_type": "stream",
          "text": [
            "Kunfu is a Male Panda Bear who is 5 years old\n",
            "Pan Pan is a Female Panda Bear who is 3 years old\n",
            "Ming Ming is a Female Panda Bear who is 8 years old\n",
            "===========================\n",
            "('Pan Pan sleeps ', 10, 'hours daily and should have Broccoli Chicken')\n",
            "('self.namesleeps', 4, 'hours daily and should have Mixed Veggies')\n",
            "Ming Mingduration is unknown thus should have only bamboo leaves\n"
          ],
          "name": "stdout"
        }
      ]
    },
    {
      "cell_type": "markdown",
      "metadata": {
        "id": "uQIYDye9KV90"
      },
      "source": [
        "Task4"
      ]
    },
    {
      "cell_type": "code",
      "metadata": {
        "colab": {
          "base_uri": "https://localhost:8080/"
        },
        "id": "-Lx9chjLKXr2",
        "outputId": "8d636253-9556-49b2-9e7c-06ad936cf399"
      },
      "source": [
        "class Cat:\n",
        "    \n",
        "    def __init__(self,color=None,action=None):\n",
        "        if color!=None and action!=None:\n",
        "            self.color=color\n",
        "            self.action=action\n",
        "        elif color!=None and action==None:\n",
        "            self.color = color\n",
        "            self.action = \"sitting\"\n",
        "        else:\n",
        "              self.color = \"White\"\n",
        "              self.action = \"sitting\"\n",
        "    def printCat(self):\n",
        "            print(self.color, 'cat is' , self.action)\n",
        "    def changeColor(self, Change_color):\n",
        "           self.color = Change_color\n",
        "c1 = Cat()\n",
        "c2 = Cat(\"Black\")\n",
        "c3 = Cat(\"Brown\", \"jumping\")\n",
        "c4 = Cat(\"Red\", \"purring\")\n",
        "c1.printCat()\n",
        "c2.printCat() \n",
        "c3.printCat()\n",
        "c4.printCat()\n",
        "c1.changeColor(\"Blue\")\n",
        "c3.changeColor(\"Purple\")\n",
        "c1.printCat()\n",
        "c3.printCat()"
      ],
      "execution_count": null,
      "outputs": [
        {
          "output_type": "stream",
          "text": [
            "White cat is sitting\n",
            "Black cat is sitting\n",
            "Brown cat is jumping\n",
            "Red cat is purring\n",
            "Blue cat is sitting\n",
            "Purple cat is jumping\n"
          ],
          "name": "stdout"
        }
      ]
    },
    {
      "cell_type": "markdown",
      "metadata": {
        "id": "7oZsX6xXKhNL"
      },
      "source": [
        "Task5"
      ]
    },
    {
      "cell_type": "code",
      "metadata": {
        "colab": {
          "base_uri": "https://localhost:8080/"
        },
        "id": "8KhrcPqNKiQD",
        "outputId": "9f085bc7-33e8-47cb-b898-2f1f1e460bab"
      },
      "source": [
        "class Student:\n",
        "    def __init__(self,Name=None):\n",
        "        if Name!=None:\n",
        "            self.name=Name\n",
        "        else:\n",
        "            self.name=\" default student\"\n",
        "    \n",
        "        \n",
        "    def quizcalc(self,*nums):\n",
        "        count=0\n",
        "        for i in nums:\n",
        "           count=count+i\n",
        "           avg=count/3\n",
        "           self.avg=avg\n",
        "           \n",
        "       # print(\"Your average quiz score is\",avg)\n",
        "        \n",
        "    def printdetail(self):\n",
        "        print(\"Hello\"+self.name)\n",
        "       \n",
        "        print(\"Your average quiz score is\",self.avg)\n",
        "        \n",
        "###############################\n",
        "\n",
        "s1 = Student()\n",
        "s1.quizcalc(10)\n",
        "print('--------------------------------')\n",
        "s1.printdetail()\n",
        "s2 = Student(' Harry')\n",
        "s2.quizcalc(10,8)\n",
        "print('--------------------------------')\n",
        "s2.printdetail()\n",
        "s3 = Student(' Hermione')\n",
        "s3.quizcalc(10,9,10)\n",
        "print('--------------------------------')\n",
        "s3.printdetail()"
      ],
      "execution_count": null,
      "outputs": [
        {
          "output_type": "stream",
          "text": [
            "--------------------------------\n",
            "Hello default student\n",
            "Your average quiz score is 3.3333333333333335\n",
            "--------------------------------\n",
            "Hello Harry\n",
            "Your average quiz score is 6.0\n",
            "--------------------------------\n",
            "Hello Hermione\n",
            "Your average quiz score is 9.666666666666666\n"
          ],
          "name": "stdout"
        }
      ]
    },
    {
      "cell_type": "markdown",
      "metadata": {
        "id": "aErt9N-3Kmg5"
      },
      "source": [
        "Task6"
      ]
    },
    {
      "cell_type": "code",
      "metadata": {
        "colab": {
          "base_uri": "https://localhost:8080/"
        },
        "id": "RU-BUJMLKnpI",
        "outputId": "40700f15-5c3a-4f4f-b5f8-1dbda353b2cd"
      },
      "source": [
        "class Vehicle:\n",
        "    def __init__(self):\n",
        "        self.x=0\n",
        "        self.y=0\n",
        "    def print_position(self):\n",
        "        print(\"(\",self.x,self.y,\")\")\n",
        "    def moveUp(self):\n",
        "        self.y+=1\n",
        "    def moveDown(self):\n",
        "        self.y-=1\n",
        "    def moveLeft(self):\n",
        "        self.x-=1\n",
        "    def moveRight(self):\n",
        "        self.x+=1\n",
        "        \n",
        "car = Vehicle()\n",
        "car.print_position()\n",
        "car.moveUp()\n",
        "car.print_position()\n",
        "car.moveLeft()\n",
        "car.print_position()\n",
        "car.moveDown()\n",
        "car.print_position()\n",
        "car.moveRight()"
      ],
      "execution_count": null,
      "outputs": [
        {
          "output_type": "stream",
          "text": [
            "( 0 0 )\n",
            "( 0 1 )\n",
            "( -1 1 )\n",
            "( -1 0 )\n"
          ],
          "name": "stdout"
        }
      ]
    },
    {
      "cell_type": "markdown",
      "metadata": {
        "id": "3bKy-Qh8Kr6p"
      },
      "source": [
        "Task7"
      ]
    },
    {
      "cell_type": "code",
      "metadata": {
        "colab": {
          "base_uri": "https://localhost:8080/"
        },
        "id": "dzEo1QIZKtjf",
        "outputId": "d5b6aa5b-4bc6-4649-f01d-2422adb94974"
      },
      "source": [
        "class Programmer:\n",
        "  \n",
        "    def __init__(self,name,language,exp):\n",
        "        print(\"Horray! A new programmer is born\")\n",
        "        self.name=name\n",
        "        self.language=language\n",
        "        self.exp=exp\n",
        "        \n",
        "    def printDetails(self) :\n",
        "        print(\"Name:\",self.name)\n",
        "        print(\"Language:\",self.language)\n",
        "        print(\"Experience:\",self.exp,\"years\")\n",
        "    def addExp(self,experience):\n",
        "        print(\"Updating experience of\",self.name)\n",
        "        self.exp+=experience\n",
        "p1 = Programmer(\"Ethen Hunt\", \"Java\", 10)\n",
        "p1.printDetails()\n",
        "print('--------------------------')\n",
        "p2 = Programmer(\"James Bond\", \"C++\", 7)\n",
        "p2.printDetails()\n",
        "print('--------------------------')\n",
        "p3 = Programmer(\"Jon Snow\", \"Python\", 4)\n",
        "p3.printDetails()\n",
        "\n",
        "\n",
        "p3.addExp(5)\n",
        "p3.printDetails()\n",
        "\n"
      ],
      "execution_count": null,
      "outputs": [
        {
          "output_type": "stream",
          "text": [
            "Horray! A new programmer is born\n",
            "Name: Ethen Hunt\n",
            "Language: Java\n",
            "Experience: 10 years\n",
            "--------------------------\n",
            "Horray! A new programmer is born\n",
            "Name: James Bond\n",
            "Language: C++\n",
            "Experience: 7 years\n",
            "--------------------------\n",
            "Horray! A new programmer is born\n",
            "Name: Jon Snow\n",
            "Language: Python\n",
            "Experience: 4 years\n",
            "Updating experience of Jon Snow\n",
            "Name: Jon Snow\n",
            "Language: Python\n",
            "Experience: 9 years\n"
          ],
          "name": "stdout"
        }
      ]
    },
    {
      "cell_type": "markdown",
      "metadata": {
        "id": "wNp0-Na9LE5w"
      },
      "source": [
        "Task8"
      ]
    },
    {
      "cell_type": "code",
      "metadata": {
        "colab": {
          "base_uri": "https://localhost:8080/"
        },
        "id": "qJwA6epzLHI3",
        "outputId": "2bd5f22e-0fab-4377-9baf-ebda2086a9b9"
      },
      "source": [
        "class Student:\n",
        "    def __init__(self,name,id,dept=\"CSE\"):\n",
        "        self.name=name\n",
        "        self.id=id\n",
        "        self.dept=dept\n",
        "    def dailyEffort(self,effort):\n",
        "        self.effort=effort\n",
        "    def printDetails(self):\n",
        "        print(\"Name:\",self.name)\n",
        "        print(\"ID:\",self.id)\n",
        "        print(\"Department:\",self.dept)\n",
        "        print(\"Effort:\",self.effort,\"(s)\")\n",
        "        if self.effort<=2:\n",
        "            print(\"Suggestion: Should give more effort!\")\n",
        "        elif self.effort>2 and self.effort<=4:\n",
        "             print(\"Suggestion: Keep up the good work!\")\n",
        "        else:\n",
        "           print('Suggestion: Excellent! Now motivate others.') \n",
        "            \n",
        "harry = Student('Harry Potter', 123)\n",
        "harry.dailyEffort(3)\n",
        "harry.printDetails()\n",
        "print('========================')\n",
        "john = Student(\"John Wick\", 456, \"BBA\")\n",
        "john.dailyEffort(2)\n",
        "john.printDetails()\n",
        "print('========================')\n",
        "naruto = Student(\"Naruto Uzumaki\", 777, \"Ninja\")\n",
        "naruto.dailyEffort(6)\n",
        "naruto.printDetails()"
      ],
      "execution_count": null,
      "outputs": [
        {
          "output_type": "stream",
          "text": [
            "Name: Harry Potter\n",
            "ID: 123\n",
            "Department: CSE\n",
            "Effort: 3 (s)\n",
            "Suggestion: Keep up the good work!\n",
            "========================\n",
            "Name: John Wick\n",
            "ID: 456\n",
            "Department: BBA\n",
            "Effort: 2 (s)\n",
            "Suggestion: Should give more effort!\n",
            "========================\n",
            "Name: Naruto Uzumaki\n",
            "ID: 777\n",
            "Department: Ninja\n",
            "Effort: 6 (s)\n",
            "Suggestion: Excellent! Now motivate others.\n"
          ],
          "name": "stdout"
        }
      ]
    },
    {
      "cell_type": "markdown",
      "metadata": {
        "id": "hwPUCKCiLtP9"
      },
      "source": [
        "Task9"
      ]
    },
    {
      "cell_type": "code",
      "metadata": {
        "colab": {
          "base_uri": "https://localhost:8080/"
        },
        "id": "f6jzrdCjLvxo",
        "outputId": "3daab90e-a38e-400b-8d3e-456d517b58ee"
      },
      "source": [
        "class Patient:\n",
        "   def __init__(self,name,age):\n",
        "        self.name=name\n",
        "        self.age=age\n",
        "        \n",
        "   def add_Symptom(self,*item):\n",
        "      \n",
        "           self.symptom=item\n",
        "   def printPatientDetail(self):\n",
        "       print(\"Name:\",self.name)\n",
        "       print(\"Age:\",self.age)\n",
        "       print(\"Symptom:\",end=\"\")\n",
        "       \n",
        "       print(*self.symptom,sep=\",\")\n",
        "       \n",
        "p1 = Patient(\"Thomas\", 23)\n",
        "p1.add_Symptom(\"Headache\")\n",
        "p2 = Patient(\"Carol\", 20)\n",
        "p2.add_Symptom(\"Vomiting\", \" Coughing\")\n",
        "p3 = Patient(\"Mike\", 25)\n",
        "p3.add_Symptom(\" Fever\" , \" Headache\", \" Coughing\")\n",
        "print(\"=========================\")\n",
        "p1.printPatientDetail()\n",
        "print(\"=========================\")\n",
        "p2.printPatientDetail()\n",
        "print(\"=========================\")\n",
        "p3.printPatientDetail()\n",
        "print(\"=========================\")       "
      ],
      "execution_count": null,
      "outputs": [
        {
          "output_type": "stream",
          "text": [
            "=========================\n",
            "Name: Thomas\n",
            "Age: 23\n",
            "Symptom:Headache\n",
            "=========================\n",
            "Name: Carol\n",
            "Age: 20\n",
            "Symptom:Vomiting, Coughing\n",
            "=========================\n",
            "Name: Mike\n",
            "Age: 25\n",
            "Symptom: Fever, Headache, Coughing\n",
            "=========================\n"
          ],
          "name": "stdout"
        }
      ]
    },
    {
      "cell_type": "markdown",
      "metadata": {
        "id": "Upc3EqixL-WF"
      },
      "source": [
        "Task10"
      ]
    },
    {
      "cell_type": "code",
      "metadata": {
        "colab": {
          "base_uri": "https://localhost:8080/"
        },
        "id": "Ze4mCkwML_kf",
        "outputId": "553a36c9-086e-40c8-932d-2ce68f46c200"
      },
      "source": [
        "class Avengers:\n",
        "    def __init__(self,name,partner):\n",
        "        self.name=name\n",
        "        self.partner=partner\n",
        "    def super_powers(self,*powers):\n",
        "        self.power=powers\n",
        "    def printAvengersDetail(self):\n",
        "        print(\"Name:\",self.name)\n",
        "        print(\"Partner:\",self.partner)\n",
        "        print(\"Super powers:\",end=\" \")\n",
        "        print(*self.power,sep=\",\")\n",
        "        \n",
        "a1 = Avengers('Captain America', 'Bucky Barnes')\n",
        "a1.super_powers('Stamina', 'Slowed ageing')\n",
        "a2 = Avengers('Doctor Strange', 'Ancient One')\n",
        "a2.super_powers('Mastery of magic')\n",
        "a3 = Avengers('Iron Man', 'War Machine')\n",
        "a3.super_powers('Genius level intellect', 'Scientist ')\n",
        "print(\"=========================\")\n",
        "a1.printAvengersDetail()\n",
        "print(\"=========================\")\n",
        "a2.printAvengersDetail()\n",
        "print(\"=========================\")\n",
        "a3.printAvengersDetail()\n",
        "print(\"=========================\")"
      ],
      "execution_count": null,
      "outputs": [
        {
          "output_type": "stream",
          "text": [
            "=========================\n",
            "Name: Captain America\n",
            "Partner: Bucky Barnes\n",
            "Super powers: Stamina,Slowed ageing\n",
            "=========================\n",
            "Name: Doctor Strange\n",
            "Partner: Ancient One\n",
            "Super powers: Mastery of magic\n",
            "=========================\n",
            "Name: Iron Man\n",
            "Partner: War Machine\n",
            "Super powers: Genius level intellect,Scientist \n",
            "=========================\n"
          ],
          "name": "stdout"
        }
      ]
    },
    {
      "cell_type": "markdown",
      "metadata": {
        "id": "2y2yU2J5MH-u"
      },
      "source": [
        "Task11"
      ]
    },
    {
      "cell_type": "code",
      "metadata": {
        "colab": {
          "base_uri": "https://localhost:8080/"
        },
        "id": "s38puanQMJMd",
        "outputId": "6d98b448-8ea6-429f-ca13-0d423bfe247b"
      },
      "source": [
        "class Shinobi:\n",
        "    def __init__(self,name,rank,salary=0,mission=0):\n",
        "        self.name=name\n",
        "        self.rank=rank\n",
        "        self.salary=salary\n",
        "        self.mission=mission\n",
        "    def calSalary(self,mission):\n",
        "        self.mission=mission\n",
        "        if self.rank==\"Genin\":\n",
        "            self.salary=self.mission*50\n",
        "            \n",
        "        elif self.rank==\"chunin\":\n",
        "            self.salary=self.mission*100\n",
        "          \n",
        "        else:\n",
        "             self.salary=self.mission*500\n",
        "    def changeRank(self,C_rank):\n",
        "           self.rank=C_rank       \n",
        "    def printInfo(self):\n",
        "       print(\"Name:\",self.name)\n",
        "       print(\"Rank:\",self.rank) \n",
        "       print(\"Number of mission:\",self.mission) \n",
        "       print(\"Salary:\",self.salary) \n",
        "             \n",
        "naruto = Shinobi(\"Naruto\", \"Genin\")\n",
        "naruto.calSalary(5)\n",
        "naruto.printInfo()\n",
        "print('====================')\n",
        "shikamaru = Shinobi('Shikamaru', \"Genin\")\n",
        "shikamaru.printInfo()\n",
        "shikamaru.changeRank(\"Chunin\")\n",
        "shikamaru.calSalary(10)\n",
        "shikamaru.printInfo()\n",
        "print('====================')\n",
        "neiji = Shinobi(\"Neiji\", \"Jonin\")\n",
        "neiji.calSalary(5)\n",
        "neiji.printInfo()"
      ],
      "execution_count": null,
      "outputs": [
        {
          "output_type": "stream",
          "text": [
            "Name: Naruto\n",
            "Rank: Genin\n",
            "Number of mission: 5\n",
            "Salary: 250\n",
            "====================\n",
            "Name: Shikamaru\n",
            "Rank: Genin\n",
            "Number of mission: 0\n",
            "Salary: 0\n",
            "Name: Shikamaru\n",
            "Rank: Chunin\n",
            "Number of mission: 10\n",
            "Salary: 5000\n",
            "====================\n",
            "Name: Neiji\n",
            "Rank: Jonin\n",
            "Number of mission: 5\n",
            "Salary: 2500\n"
          ],
          "name": "stdout"
        }
      ]
    },
    {
      "cell_type": "markdown",
      "metadata": {
        "id": "iBv7w_GCMNXC"
      },
      "source": [
        "Task12"
      ]
    },
    {
      "cell_type": "code",
      "metadata": {
        "colab": {
          "base_uri": "https://localhost:8080/"
        },
        "id": "IJbDWtLaMO8K",
        "outputId": "b454127a-dcea-4b88-e19b-be9eb9bad4c0"
      },
      "source": [
        "class ParcelKoro:\n",
        "    def __init__(self,customer_name=\"No Name Set\",product_weight=0):\n",
        "        self.customer_name=customer_name\n",
        "        self.product_weight=product_weight\n",
        "       \n",
        "    def calculateFee(self,delivery_location=\"\"):\n",
        "        if self.product_weight==0:\n",
        "           self.total_fee=0\n",
        "        elif  delivery_location==None:\n",
        "               location_charge=50\n",
        "               self.total_fee=(self.product_weight*20)+location_charge\n",
        "           \n",
        "        else:\n",
        "            location_charge=100\n",
        "            self.total_fee=(self.product_weight*20)+location_charge\n",
        "            \n",
        "    def printDetails(self):\n",
        "        print(\"Customer Name:\",self.customer_name)\n",
        "        print(\"Product Weight:\",self.product_weight)\n",
        "        print(\"Total fee:\",self.total_fee)\n",
        "print(\"**********************\")\n",
        "p1 = ParcelKoro()\n",
        "p1.calculateFee()\n",
        "p1.printDetails()\n",
        "print(\"**********************\")\n",
        "p2 = ParcelKoro('Bob The Builder')\n",
        "p2.calculateFee()\n",
        "p2.printDetails()\n",
        "print(\"----------------------------\")\n",
        "p2.product_weight = 15\n",
        "p2.calculateFee()\n",
        "p2.printDetails()\n",
        "print(\"**********************\")\n",
        "p3=ParcelKoro('Dora The Explorer', 10)\n",
        "p3.calculateFee('Dhanmondi')\n",
        "p3.printDetails()"
      ],
      "execution_count": null,
      "outputs": [
        {
          "output_type": "stream",
          "text": [
            "**********************\n",
            "Customer Name: No Name Set\n",
            "Product Weight: 0\n",
            "Total fee: 0\n",
            "**********************\n",
            "Customer Name: Bob The Builder\n",
            "Product Weight: 0\n",
            "Total fee: 0\n",
            "----------------------------\n",
            "Customer Name: Bob The Builder\n",
            "Product Weight: 15\n",
            "Total fee: 400\n",
            "**********************\n",
            "Customer Name: Dora The Explorer\n",
            "Product Weight: 10\n",
            "Total fee: 300\n"
          ],
          "name": "stdout"
        }
      ]
    },
    {
      "cell_type": "markdown",
      "metadata": {
        "id": "dSwwjFPZMVfN"
      },
      "source": [
        "Task13"
      ]
    },
    {
      "cell_type": "code",
      "metadata": {
        "colab": {
          "base_uri": "https://localhost:8080/"
        },
        "id": "z3dOIiU5MWyJ",
        "outputId": "e60c73a5-8114-4f07-b411-be8d357c50a2"
      },
      "source": [
        "class Batsman:\n",
        "    def __init__(self,*batsman_info):\n",
        "       if len(batsman_info)==3:\n",
        "           self.name=batsman_info[0]\n",
        "           self.RunsScored=batsman_info[1]\n",
        "           self.ballsfaced=batsman_info[2]\n",
        "       else:\n",
        "           self.name=\"No Batsman\"\n",
        "           self.RunsScored=batsman_info[0]\n",
        "           self.ballsfaced=batsman_info[1]\n",
        "    def setName(self,name):\n",
        "        self.name=name\n",
        "    def battingStrikeRate(self):\n",
        "        Batting_strike_rate = self.RunsScored/self.ballsfaced*100\n",
        "        return  Batting_strike_rate\n",
        "    def printCareerStatistics(self):\n",
        "        print(\"Name:\",self.name)\n",
        "        print(\"Runs Scored:\",self.RunsScored,\",\" ,\"Balls Faced:\", self.ballsfaced)\n",
        "     \n",
        "b1 = Batsman(6101, 7380)\n",
        "b1.printCareerStatistics()\n",
        "print(\"============================\")\n",
        "b2 = Batsman(\"Liton Das\", 678, 773)\n",
        "b2.printCareerStatistics()\n",
        "print(\"----------------------------\")\n",
        "print(b2.battingStrikeRate())\n",
        "print(\"============================\")\n",
        "b1.setName(\"Shakib Al Hasan\")\n",
        "b1.printCareerStatistics()\n",
        "print(\"----------------------------\")\n",
        "print(b1.battingStrikeRate())"
      ],
      "execution_count": null,
      "outputs": [
        {
          "output_type": "stream",
          "text": [
            "Name: No Batsman\n",
            "Runs Scored: 6101 , Balls Faced: 7380\n",
            "============================\n",
            "Name: Liton Das\n",
            "Runs Scored: 678 , Balls Faced: 773\n",
            "----------------------------\n",
            "87.71021992238033\n",
            "============================\n",
            "Name: Shakib Al Hasan\n",
            "Runs Scored: 6101 , Balls Faced: 7380\n",
            "----------------------------\n",
            "82.66937669376694\n"
          ],
          "name": "stdout"
        }
      ]
    },
    {
      "cell_type": "markdown",
      "metadata": {
        "id": "22eCVoopMhbA"
      },
      "source": [
        "Task14"
      ]
    },
    {
      "cell_type": "code",
      "metadata": {
        "colab": {
          "base_uri": "https://localhost:8080/"
        },
        "id": "0Nen-hY2Mikc",
        "outputId": "253df886-4492-4cea-95ad-b724012a4604"
      },
      "source": [
        "class EPL_Team:\n",
        "    def __init__(self,*info):\n",
        "       if len(info)==2:\n",
        "           self.club_name=info[0]\n",
        "           self.slogan=info[1]\n",
        "           self.Total_No_of_title=0\n",
        "       else:\n",
        "           self.club_name=info[0]\n",
        "           self.slogan=\"No Slogan\"\n",
        "           self.Total_No_of_title=0\n",
        "           \n",
        "    def increaseTitle(self):\n",
        "         self.Total_No_of_title+=1\n",
        "    def showClubInfo(self):\n",
        "       \n",
        "        return \"Name: {}\\nSong: {}\\nTotal No of Title:{}\".format(self.club_name,self.slogan,self.Total_No_of_title)\n",
        "       \n",
        "    \n",
        "        \n",
        "       \n",
        "        \n",
        "    def changeSong(self,song):\n",
        "         self.slogan=song\n",
        "         \n",
        "         \n",
        "manu = EPL_Team('Manchester United', 'Glory Glory Man United')\n",
        "chelsea = EPL_Team('Chelsea')\n",
        "print('===================')\n",
        "print(manu.showClubInfo())\n",
        "print('##################')\n",
        "manu.increaseTitle()\n",
        "print(manu.showClubInfo())\n",
        "print('===================')\n",
        "print(chelsea.showClubInfo())\n",
        "chelsea.changeSong('Keep the blue flag flying high')\n",
        "print(chelsea.showClubInfo())"
      ],
      "execution_count": null,
      "outputs": [
        {
          "output_type": "stream",
          "text": [
            "===================\n",
            "Name: Manchester United\n",
            "Song: Glory Glory Man United\n",
            "Total No of Title:0\n",
            "##################\n",
            "Name: Manchester United\n",
            "Song: Glory Glory Man United\n",
            "Total No of Title:1\n",
            "===================\n",
            "Name: Chelsea\n",
            "Song: No Slogan\n",
            "Total No of Title:0\n",
            "Name: Chelsea\n",
            "Song: Keep the blue flag flying high\n",
            "Total No of Title:0\n"
          ],
          "name": "stdout"
        }
      ]
    },
    {
      "cell_type": "markdown",
      "metadata": {
        "id": "28F0lBm0MrtA"
      },
      "source": [
        "Task15"
      ]
    },
    {
      "cell_type": "code",
      "metadata": {
        "colab": {
          "base_uri": "https://localhost:8080/"
        },
        "id": "g0RQga8aMs_c",
        "outputId": "4e04c9f2-6a69-4f3a-fc13-bbfa113163c5"
      },
      "source": [
        "class Account:\n",
        "    def __init__(self,name=\"Default Name\",balance=0.0):\n",
        "            self.name=name\n",
        "            self.balance=balance\n",
        "    def details(self):\n",
        "        return \"{}\\n{}\".format(self.name, self.balance)\n",
        "    def withdraw(self,amount):\n",
        "        a=self.balance-amount\n",
        "        if a<3071.0:\n",
        "            \n",
        "         print(\"Sorry, Withdraw unsuccessful! The account balance after deducting withdraw amount is equal to or less than minimum.\")\n",
        "        else:\n",
        "            print(\"Withdraw successful! New balance is:\",a)\n",
        "            \n",
        "a1 = Account()\n",
        "print(a1.details())\n",
        "print(\"------------------------\")\n",
        "a1.name = \"Oliver\"\n",
        "a1.balance = 10000.0\n",
        "print(a1.details())\n",
        "print(\"------------------------\")\n",
        "a2 = Account(\"Liam\")\n",
        "print(a2.details())\n",
        "print(\"------------------------\")\n",
        "a3 = Account(\"Noah\",400)\n",
        "print(a3.details())\n",
        "print(\"------------------------\")\n",
        "a1.withdraw(6930);\n",
        "print(\"------------------------\")\n",
        "a2.withdraw(600);\n",
        "print(\"------------------------\")\n",
        "a1.withdraw(6929)"
      ],
      "execution_count": null,
      "outputs": [
        {
          "output_type": "stream",
          "text": [
            "Default Name\n",
            "0.0\n",
            "------------------------\n",
            "Oliver\n",
            "10000.0\n",
            "------------------------\n",
            "Liam\n",
            "0.0\n",
            "------------------------\n",
            "Noah\n",
            "400\n",
            "------------------------\n",
            "Sorry, Withdraw unsuccessful! The account balance after deducting withdraw amount is equal to or less than minimum.\n",
            "------------------------\n",
            "Sorry, Withdraw unsuccessful! The account balance after deducting withdraw amount is equal to or less than minimum.\n",
            "------------------------\n",
            "Withdraw successful! New balance is: 3071.0\n"
          ],
          "name": "stdout"
        }
      ]
    },
    {
      "cell_type": "markdown",
      "metadata": {
        "id": "jOHI5QRgM9eY"
      },
      "source": [
        "Task16"
      ]
    },
    {
      "cell_type": "code",
      "metadata": {
        "colab": {
          "base_uri": "https://localhost:8080/"
        },
        "id": "qqGexEVLM_23",
        "outputId": "fa1863fa-d8d9-43a3-9359-99c94e434a33"
      },
      "source": [
        "class Author:\n",
        "    def __init__(self,name=\"Default\",*books):\n",
        "        self.name=name\n",
        "        k=\"\"\n",
        "        for x in books:\n",
        "            k=k+\"\\n\"+x\n",
        "            self.book_name=k\n",
        "       \n",
        "    def changeName(self,name):\n",
        "        self.name=name\n",
        "    def addBooks(self,*info):\n",
        "        j=\"\"\n",
        "        for i in info:\n",
        "            j=j+\"\\n\"+i\n",
        "            \n",
        "        self.book_name=j\n",
        "    def printDetails(self):\n",
        "        print(\"Author name:\",self.name)\n",
        "        print(\"List of Books:\",self.book_name)\n",
        "       \n",
        "auth1 = Author('Humayun Ahmed')\n",
        "auth1.addBooks('Deyal', 'Megher Opor Bari')\n",
        "auth1.printDetails()\n",
        "print(\"===================\")\n",
        "auth2 = Author()\n",
        "print(auth2.name)\n",
        "auth2.changeName('Mario Puzo')\n",
        "auth2.addBooks('The Godfather', 'Omerta', 'The Sicilian')\n",
        "print(\"===================\")\n",
        "auth2.printDetails()\n",
        "print(\"===================\")\n",
        "auth3 = Author('Paolo Coelho', 'The Alchemist', 'The Fifth Mountain')\n",
        "auth3.printDetails()"
      ],
      "execution_count": null,
      "outputs": [
        {
          "output_type": "stream",
          "text": [
            "Author name: Humayun Ahmed\n",
            "List of Books: \n",
            "Deyal\n",
            "Megher Opor Bari\n",
            "===================\n",
            "Default\n",
            "===================\n",
            "Author name: Mario Puzo\n",
            "List of Books: \n",
            "The Godfather\n",
            "Omerta\n",
            "The Sicilian\n",
            "===================\n",
            "Author name: Paolo Coelho\n",
            "List of Books: \n",
            "The Alchemist\n",
            "The Fifth Mountain\n"
          ],
          "name": "stdout"
        }
      ]
    }
  ]
}