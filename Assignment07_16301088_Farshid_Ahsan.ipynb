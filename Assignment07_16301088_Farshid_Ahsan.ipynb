{
  "nbformat": 4,
  "nbformat_minor": 0,
  "metadata": {
    "colab": {
      "name": "Assignment07_16301088_Farshid Ahsan.ipynb",
      "provenance": [],
      "collapsed_sections": [],
      "authorship_tag": "ABX9TyNePsbTbJHAODJPfy0oMFDN",
      "include_colab_link": true
    },
    "kernelspec": {
      "name": "python3",
      "display_name": "Python 3"
    },
    "language_info": {
      "name": "python"
    }
  },
  "cells": [
    {
      "cell_type": "markdown",
      "metadata": {
        "id": "view-in-github",
        "colab_type": "text"
      },
      "source": [
        "<a href=\"https://colab.research.google.com/github/Farshid-997/Colab-Python_problem-Solve/blob/main/Assignment07_16301088_Farshid_Ahsan.ipynb\" target=\"_parent\"><img src=\"https://colab.research.google.com/assets/colab-badge.svg\" alt=\"Open In Colab\"/></a>"
      ]
    },
    {
      "cell_type": "markdown",
      "metadata": {
        "id": "ZvRaE1x7pJ_n"
      },
      "source": [
        "Task1"
      ]
    },
    {
      "cell_type": "code",
      "metadata": {
        "colab": {
          "base_uri": "https://localhost:8080/"
        },
        "id": "zTuZrvinpMc9",
        "outputId": "fd8464dc-248f-43a0-daad-2be43cdce5aa"
      },
      "source": [
        "class Student:\n",
        "      def __init__(self, name='Just a student', dept='nothing'):\n",
        "         self.__name = name\n",
        "         self.__department = dept\n",
        "      def set_department(self, dept):\n",
        "          self.__department = dept\n",
        "      def get_name(self):\n",
        "          return self.__name\n",
        "      def set_name(self,name):\n",
        "          self.__name = name\n",
        "      def __str__(self):\n",
        "          return 'Name: '+self.__name+' Department: '+self.__department\n",
        "class BBA_Student(Student):\n",
        "    def __init__(self,name='default',dept='BBA'):\n",
        "     super().__init__(name,dept)  \n",
        "print(BBA_Student())\n",
        "print(BBA_Student('Humpty Dumpty'))\n",
        "print(BBA_Student('Little Bo Peep'))"
      ],
      "execution_count": null,
      "outputs": [
        {
          "output_type": "stream",
          "text": [
            "Name: default Department: BBA\n",
            "Name: Humpty Dumpty Department: BBA\n",
            "Name: Little Bo Peep Department: BBA\n"
          ],
          "name": "stdout"
        }
      ]
    },
    {
      "cell_type": "markdown",
      "metadata": {
        "id": "1if9QLbkpQP0"
      },
      "source": [
        "Task2"
      ]
    },
    {
      "cell_type": "code",
      "metadata": {
        "colab": {
          "base_uri": "https://localhost:8080/"
        },
        "id": "erD19ZeXpRZ1",
        "outputId": "c4d53a8f-bcf8-4ce6-e8f3-a6e79766159d"
      },
      "source": [
        "class Vehicle:\n",
        "    def __init__(self):\n",
        "        self.x = 0\n",
        "        self.y = 0\n",
        "    def moveUp(self):\n",
        "        self.y+=1\n",
        "    def moveDown(self):\n",
        "        self.y-=1\n",
        "    def moveRight(self):\n",
        "        self.x+=1\n",
        "    def moveLeft(self):\n",
        "       self.x-=1\n",
        "    def __str__(self):\n",
        "       return '('+str(self.x)+' , '+str(self.y)+')'\n",
        "class Vehicle2010(Vehicle):\n",
        "    def  moveLowerLeft(self):\n",
        "        super().moveDown()\n",
        "        super().moveLeft()\n",
        "    def moveLeft(self):\n",
        "        super().moveLeft()\n",
        "    def equals(self,other):\n",
        "        if self.x==other.x and self.y==other.y:\n",
        "            return True\n",
        "        else:\n",
        "            return False\n",
        "\n",
        "print('Part 1')\n",
        "print('------')\n",
        "car = Vehicle()\n",
        "print(car)\n",
        "car.moveUp()\n",
        "print(car)\n",
        "car.moveLeft()\n",
        "print(car)\n",
        "car.moveDown()\n",
        "print(car)\n",
        "car.moveRight()\n",
        "print(car)\n",
        "print('------')\n",
        "print('Part 2')\n",
        "print('------')\n",
        "car1 = Vehicle2010()\n",
        "print(car1)\n",
        "car1.moveLowerLeft()\n",
        "print(car1)\n",
        "car2 = Vehicle2010()\n",
        "car2.moveLeft()\n",
        "print(car1.equals(car2))\n",
        "car2.moveDown()\n",
        "print(car1.equals(car2))"
      ],
      "execution_count": null,
      "outputs": [
        {
          "output_type": "stream",
          "text": [
            "Part 1\n",
            "------\n",
            "(0 , 0)\n",
            "(0 , 1)\n",
            "(-1 , 1)\n",
            "(-1 , 0)\n",
            "(0 , 0)\n",
            "------\n",
            "Part 2\n",
            "------\n",
            "(0 , 0)\n",
            "(-1 , -1)\n",
            "False\n",
            "True\n"
          ],
          "name": "stdout"
        }
      ]
    },
    {
      "cell_type": "markdown",
      "metadata": {
        "id": "AREUB2uUpY3K"
      },
      "source": [
        "Task3"
      ]
    },
    {
      "cell_type": "code",
      "metadata": {
        "colab": {
          "base_uri": "https://localhost:8080/"
        },
        "id": "0Cf9bJRJpZ2-",
        "outputId": "d97fcc83-284b-410d-d1ca-c56c6eeea365"
      },
      "source": [
        "class Tournament:\n",
        "    def __init__(self,name='Default'):\n",
        "        self.__name = name\n",
        "    def set_name(self,name):\n",
        "        self.__name = name\n",
        "    def get_name(self):\n",
        "        return self.__name\n",
        "    \n",
        "class Cricket_Tournament(Tournament):\n",
        "    def __init__(self,name='Default',number_of_teams=0,Type='No Type'):\n",
        "        \n",
        "        super().__init__(name)\n",
        "        self.number_of_teams=number_of_teams\n",
        "        self.Type=Type\n",
        "    def detail(self):\n",
        "        return \"Name:{} \\n Number of Teams:{} \\n Type:{}\".format(super().get_name(),self.number_of_teams,self.Type)\n",
        "class Tennis_Tournament(Cricket_Tournament):\n",
        "    def __init__(self,name,number_of_teams):\n",
        "        super().__init__(name,number_of_teams)\n",
        "        self.number_of_teams=number_of_teams\n",
        "       \n",
        "    def detail(self):\n",
        "        return \"Name:{} \\n Number of Teams:{} \\n Type:{}\".format(super().get_name(),self.number_of_teams,self.Type)\n",
        "ct1 = Cricket_Tournament()\n",
        "print(ct1.detail())\n",
        "print(\"-----------------------\")\n",
        "ct2 = Cricket_Tournament(\"IPL\",10,\"t20\")\n",
        "print(ct2.detail())\n",
        "print(\"-----------------------\")\n",
        "tt = Tennis_Tournament(\"Roland Garros\",128)\n",
        "print(tt.detail())"
      ],
      "execution_count": null,
      "outputs": [
        {
          "output_type": "stream",
          "text": [
            "Name:Default \n",
            " Number of Teams:0 \n",
            " Type:No Type\n",
            "-----------------------\n",
            "Name:IPL \n",
            " Number of Teams:10 \n",
            " Type:t20\n",
            "-----------------------\n",
            "Name:Roland Garros \n",
            " Number of Teams:128 \n",
            " Type:No Type\n"
          ],
          "name": "stdout"
        }
      ]
    },
    {
      "cell_type": "markdown",
      "metadata": {
        "id": "WQ1IzyeKpeiM"
      },
      "source": [
        "Task4"
      ]
    },
    {
      "cell_type": "code",
      "metadata": {
        "colab": {
          "base_uri": "https://localhost:8080/"
        },
        "id": "wPtPXoQkpiEd",
        "outputId": "d5fe9bd3-6907-4916-d1ff-93c486c185be"
      },
      "source": [
        "class Product:\n",
        "    def __init__(self,id, title, price):\n",
        "        self.__id = id\n",
        "        self. __title = title\n",
        "        self. __price = price\n",
        "    def get_id_title_price(self):\n",
        "       return \"ID: \"+str(self.__id)+\" Title:\"+self.__title+\"Price: \"+str(self.__price)\n",
        "class Book(Product):\n",
        "    def __init__(self,id,title,price,ISBN,Publisher):\n",
        "        super().__init__(id,title,price)\n",
        "        self.ISBN=ISBN\n",
        "        self.Publisher=Publisher\n",
        "    def printDetail(self):\n",
        "       return super().get_id_title_price()+ '\\nISBN:'+str(self.ISBN)+' Publisher:'+str(self.Publisher)\n",
        "class CD(Product):\n",
        "     def __init__(self,id,title,price,Band,Duration,Genre):\n",
        "        super().__init__(id,title,price)\n",
        "        self.Band=Band\n",
        "        self.Duration=Duration\n",
        "        self.Genre=Genre\n",
        "     def printDetail(self):\n",
        "          return super().get_id_title_price()+ '\\nBand:'+str(self.Band)+' Duration:'+str(self.Duration)+'minutes'+'\\nGenre:'+str(self.Genre)\n",
        "book = Book(1,\"The Alchemist\",500,\"97806\",\"HarperCollins\")\n",
        "print(book.printDetail())\n",
        "print(\"-----------------------\")\n",
        "cd = CD(2,\"Shotto\",300,\"Warfaze\",50,\"Hard Rock\")\n",
        "print(cd.printDetail())"
      ],
      "execution_count": null,
      "outputs": [
        {
          "output_type": "stream",
          "text": [
            "ID: 1 Title:The AlchemistPrice: 500\n",
            "ISBN:97806 Publisher:HarperCollins\n",
            "-----------------------\n",
            "ID: 2 Title:ShottoPrice: 300\n",
            "Band:Warfaze Duration:50minutes\n",
            "Genre:Hard Rock\n"
          ],
          "name": "stdout"
        }
      ]
    },
    {
      "cell_type": "markdown",
      "metadata": {
        "id": "Y1Dq6j4ZpkZt"
      },
      "source": [
        "Task5"
      ]
    },
    {
      "cell_type": "code",
      "metadata": {
        "colab": {
          "base_uri": "https://localhost:8080/"
        },
        "id": "ENdc_wL1plux",
        "outputId": "98b10b77-9cd7-4204-c0b7-80e65b98fdf1"
      },
      "source": [
        "class Animal:\n",
        "    def __init__(self,sound):\n",
        "        self.__sound = sound\n",
        "    def makeSound(self):\n",
        "       return self.__sound\n",
        "\n",
        "class Printer:\n",
        "    def printSound(self, a):\n",
        "        print(a.makeSound())\n",
        "        \n",
        "        \n",
        "class Dog(Animal):\n",
        "    def __init__(self,sound):\n",
        "        super().__init__(sound)\n",
        "class Cat(Animal):\n",
        "    def __init__(self,sound):\n",
        "        super().__init__(sound)\n",
        "#write your code here\n",
        "d1 = Dog('bark')\n",
        "c1 = Cat('meow')\n",
        "a1 = Animal('Animal does not make sound')\n",
        "pr = Printer()\n",
        "pr.printSound(a1)\n",
        "pr.printSound(c1)\n",
        "pr.printSound(d1)"
      ],
      "execution_count": null,
      "outputs": [
        {
          "output_type": "stream",
          "text": [
            "Animal does not make sound\n",
            "meow\n",
            "bark\n"
          ],
          "name": "stdout"
        }
      ]
    },
    {
      "cell_type": "markdown",
      "metadata": {
        "id": "OGS3A0odpssm"
      },
      "source": [
        "Task6"
      ]
    },
    {
      "cell_type": "code",
      "metadata": {
        "colab": {
          "base_uri": "https://localhost:8080/"
        },
        "id": "XhVJrcN8puWm",
        "outputId": "d44bfe32-4d21-426a-da16-88afb67f55e1"
      },
      "source": [
        "class Shape:\n",
        "    def __init__(self, name='Default', height=0, base=0):\n",
        "        self.area = 0\n",
        "        self.name = name\n",
        "        self.height = height\n",
        "        self.base = base\n",
        "    def get_height_base(self):\n",
        "        return \"Height: \"+str(self.height)+\",Base: \"+str(self.base)\n",
        "#write your code here\n",
        "\n",
        "class triangle(Shape):\n",
        "    def __init__(self,name='Default',height=0,base=0):\n",
        "        super().__init__(name,height,base)\n",
        "    def printDetail(self):\n",
        "       return \"Shape name:\"+ self.name+\"\\n\"+super().get_height_base()+\"\\narea:\"+str(self.area)\n",
        "    def calcArea(self):\n",
        "       self.area=1/2*(self.height*self.base)\n",
        "class trapezoid(Shape):\n",
        "    def __init__(self,name,height,base,side_a):\n",
        "        super().__init__(name,height,base)\n",
        "        self.side_a=side_a\n",
        "    def printDetail(self):\n",
        "        return \"Shape name:\"+ self.name + \"\\n\"+super().get_height_base()+\",side:\"+str(self.side_a)+\"\\narea:\"+str(self.area)\n",
        "    def calcArea(self):\n",
        "       self.area=1/2*(self.base+self.side_a)*10\n",
        "tri_default = triangle()\n",
        "tri_default.calcArea()\n",
        "print(tri_default.printDetail())\n",
        "print('--------------------------')\n",
        "tri = triangle('Triangle', 10, 5)\n",
        "tri.calcArea()\n",
        "print(tri.printDetail())\n",
        "print('---------------------------')\n",
        "trap = trapezoid('Trapezoid', 10, 6, 4)\n",
        "trap.calcArea()\n",
        "print(trap.printDetail())"
      ],
      "execution_count": null,
      "outputs": [
        {
          "output_type": "stream",
          "text": [
            "Shape name:Default\n",
            "Height: 0,Base: 0\n",
            "area:0.0\n",
            "--------------------------\n",
            "Shape name:Triangle\n",
            "Height: 10,Base: 5\n",
            "area:25.0\n",
            "---------------------------\n",
            "Shape name:Trapezoid\n",
            "Height: 10,Base: 6,side:4\n",
            "area:50.0\n"
          ],
          "name": "stdout"
        }
      ]
    },
    {
      "cell_type": "markdown",
      "metadata": {
        "id": "8SZ-PR5VpxfF"
      },
      "source": [
        "Task7"
      ]
    },
    {
      "cell_type": "code",
      "metadata": {
        "colab": {
          "base_uri": "https://localhost:8080/"
        },
        "id": "lefOwX5gpylb",
        "outputId": "008fc34b-7529-4726-a7ba-cf176c993eb6"
      },
      "source": [
        "class Football:\n",
        "    def __init__(self, team_name, name, role):\n",
        "        self.__team = team_name\n",
        "        self.__name = name\n",
        "        self.role = role\n",
        "        self.earning_per_match = 0\n",
        "    def get_name_team(self):\n",
        "        return 'Name: '+self.__name+', Team Name: ' +self.__team\n",
        "class Player(Football):\n",
        "    def __init__(self,team_name,name,role,total_goal,total_played):\n",
        "        super().__init__(team_name,name,role)\n",
        "        self.total_played=total_played\n",
        "        self.goal=total_goal\n",
        "    def calculate_ratio(self):\n",
        "         self.earning=(self.goal*1000)+(self.total_played*10)\n",
        "         self.goal_ratio=(self.goal/self.total_played)\n",
        "    def print_details(self):\n",
        "        print(super().get_name_team()+\"\\nTeam role:\"+str(self.role)+\"\\nTotal goal:\"+str(self.goal)+\",Total played:\"+str(self.total_played)+\"\\nGoal ratio:\"+str(self.goal_ratio)+\"\\nMatch earning:\"+str(self.earning)+\"K\")\n",
        "class Manager(Football):\n",
        "    def __init__(self,team_name, name, role,total_win):\n",
        "        super().__init__(team_name, name, role)\n",
        "        self.total_win=total_win\n",
        "    def print_details(self):\n",
        "       self.manager=self.total_win*1000  \n",
        "       print(super().get_name_team()+\"\\nTeam role:\"+str(self.role)+\"\\nTotal win:\"+str(self.total_win)+\"\\nMatch earning:\"+str(self.manager)+\"K\")\n",
        "\n",
        "player_one = Player('Juventus', 'Ronaldo', 'Striker', 25, 32)\n",
        "player_one.calculate_ratio()\n",
        "player_one.print_details()\n",
        "print('------------------------------------------')\n",
        "manager_one = Manager('Real Madrid', 'Zidane', 'Manager', 25)\n",
        "manager_one.print_details()"
      ],
      "execution_count": null,
      "outputs": [
        {
          "output_type": "stream",
          "text": [
            "Name: Ronaldo, Team Name: Juventus\n",
            "Team role:Striker\n",
            "Total goal:25,Total played:32\n",
            "Goal ratio:0.78125\n",
            "Match earning:25320K\n",
            "------------------------------------------\n",
            "Name: Zidane, Team Name: Real Madrid\n",
            "Team role:Manager\n",
            "Total win:25\n",
            "Match earning:25000K\n"
          ],
          "name": "stdout"
        }
      ]
    }
  ]
}