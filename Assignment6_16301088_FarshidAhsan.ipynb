{
  "nbformat": 4,
  "nbformat_minor": 0,
  "metadata": {
    "colab": {
      "name": "Assignment6_16301088_FarshidAhsan.ipynb",
      "provenance": [],
      "collapsed_sections": [],
      "authorship_tag": "ABX9TyNf4T70Daq72Z6RivgViXcT",
      "include_colab_link": true
    },
    "kernelspec": {
      "name": "python3",
      "display_name": "Python 3"
    },
    "language_info": {
      "name": "python"
    }
  },
  "cells": [
    {
      "cell_type": "markdown",
      "metadata": {
        "id": "view-in-github",
        "colab_type": "text"
      },
      "source": [
        "<a href=\"https://colab.research.google.com/github/Farshid-997/Colab-Python_problem-Solve/blob/main/Assignment6_16301088_FarshidAhsan.ipynb\" target=\"_parent\"><img src=\"https://colab.research.google.com/assets/colab-badge.svg\" alt=\"Open In Colab\"/></a>"
      ]
    },
    {
      "cell_type": "markdown",
      "metadata": {
        "id": "81eo6Igze4gq"
      },
      "source": [
        "Task1"
      ]
    },
    {
      "cell_type": "code",
      "metadata": {
        "colab": {
          "base_uri": "https://localhost:8080/"
        },
        "id": "ZF3IsDi6e7DT",
        "outputId": "3dde9196-66e7-4bec-c3bd-b0393607053c"
      },
      "source": [
        "class Student:\n",
        "    ID=0\n",
        "    def __init__(self,name,department,age,cgpa):\n",
        "        self.name=name\n",
        "        self.department=department\n",
        "        self.age=age\n",
        "        self.cgpa=cgpa\n",
        "        Student.ID+=1\n",
        "    def get_details(self):\n",
        "        print(\"ID:\",Student.ID)\n",
        "        print(\"Name:\",self.name)\n",
        "        print(\"Department:\",self.department)\n",
        "        print(\"Age:\",self.age)\n",
        "        print(\"Cgpa:\",self.cgpa)\n",
        "    @classmethod    \n",
        "    def from_String(cls,info):\n",
        "       name,department,age,cgpa=info.split(\"-\") \n",
        "       obj=cls( name,department,age,cgpa)\n",
        "       return obj\n",
        "s1 = Student(\"Samin\", \"CSE\", 21, 3.91)\n",
        "s1.get_details()\n",
        "print(\"-----------------------\")\n",
        "s2 = Student(\"Fahim\", \"ECE\", 21, 3.85)\n",
        "s2.get_details()\n",
        "print(\"-----------------------\")\n",
        "s3 = Student(\"Tahura\", \"EEE\", 22, 3.01)\n",
        "s3.get_details()\n",
        "print(\"-----------------------\")\n",
        "s4 = Student.from_String(\"Sumaiya-BBA-23-3.96\")\n",
        "s4.get_details()\n",
        "\n",
        "\n",
        "\n",
        "## Subtask-5 answer:Instance variables are assigned inside class methods and Class variables are assigned in the class declaration,\n",
        "#Instance variables are linked to the individual objects created via the class and class variables are linked to the entirety of the class including it's objects##\n",
        "## Subtask-6 answer: Instance methods are used to manipulate the individual objects created via the class and class methods are used to manipulate the properties of the entire class##"
      ],
      "execution_count": null,
      "outputs": [
        {
          "output_type": "stream",
          "text": [
            "ID: 1\n",
            "Name: Samin\n",
            "Department: CSE\n",
            "Age: 21\n",
            "Cgpa: 3.91\n",
            "-----------------------\n",
            "ID: 2\n",
            "Name: Fahim\n",
            "Department: ECE\n",
            "Age: 21\n",
            "Cgpa: 3.85\n",
            "-----------------------\n",
            "ID: 3\n",
            "Name: Tahura\n",
            "Department: EEE\n",
            "Age: 22\n",
            "Cgpa: 3.01\n",
            "-----------------------\n",
            "ID: 4\n",
            "Name: Sumaiya\n",
            "Department: BBA\n",
            "Age: 23\n",
            "Cgpa: 3.96\n"
          ],
          "name": "stdout"
        }
      ]
    },
    {
      "cell_type": "markdown",
      "metadata": {
        "id": "-ThV1q8kkqTr"
      },
      "source": [
        "Task2\n"
      ]
    },
    {
      "cell_type": "code",
      "metadata": {
        "colab": {
          "base_uri": "https://localhost:8080/"
        },
        "id": "JAa1ufe6ksCX",
        "outputId": "aa82f123-81cd-4cee-886d-5ea7e53dbd2d"
      },
      "source": [
        "class Assassin:\n",
        "    Total_number_of_assassin=0\n",
        "    \n",
        "    def __init__(self,name,max_success_rate):\n",
        "        self.name=name\n",
        "        self.max_success_rate=max_success_rate\n",
        "        Assassin.Total_number_of_assassin+=1\n",
        "         \n",
        "    @classmethod\n",
        "    def failureRate(cls,name,failure_rate):\n",
        "        fail_rate=100-failure_rate\n",
        "        obj1=cls(name,fail_rate)\n",
        "        return obj1\n",
        "    @classmethod\n",
        "    def failurePercentage(cls,name,failure_Percentage):\n",
        "       fail_perc=100-failure_Percentage\n",
        "       obj2=cls(name,fail_perc)\n",
        "       return obj2\n",
        "    def printDetails(self):\n",
        "        print(\"Name:\",self.name)\n",
        "        print(\"Success Rate:\",self.max_success_rate)\n",
        "        print(\"Total number of Assassin:\",Assassin.Total_number_of_assassin)\n",
        "john_wick = Assassin('John Wick', 100)\n",
        "john_wick.printDetails()\n",
        "print('================================')\n",
        "nagisa = Assassin.failureRate(\"Nagisa\", 20)\n",
        "nagisa.printDetails()\n",
        "print('================================')\n",
        "akabane = Assassin.failurePercentage('Akabane', 10)\n",
        "akabane.printDetails()"
      ],
      "execution_count": null,
      "outputs": [
        {
          "output_type": "stream",
          "text": [
            "Name: John Wick\n",
            "Success Rate: 100\n",
            "Total number of Assassin: 1\n",
            "================================\n",
            "Name: Nagisa\n",
            "Success Rate: 80\n",
            "Total number of Assassin: 2\n",
            "================================\n",
            "Name: Akabane\n",
            "Success Rate: 90\n",
            "Total number of Assassin: 3\n"
          ],
          "name": "stdout"
        }
      ]
    },
    {
      "cell_type": "markdown",
      "metadata": {
        "id": "5Se-tKjdkzT2"
      },
      "source": [
        "Task3"
      ]
    },
    {
      "cell_type": "code",
      "metadata": {
        "colab": {
          "base_uri": "https://localhost:8080/"
        },
        "id": "2EvEPxxJk2wf",
        "outputId": "e9cd940b-1207-4e42-c8c6-c9c618b0b392"
      },
      "source": [
        "class Passenger:\n",
        "    count = 0\n",
        "    def __init__(self,name):\n",
        "          self.name = name\n",
        "          self.bgw = 0\n",
        "          Passenger.count+=1\n",
        "    def set_bag_weight(self,weight):\n",
        "         self.bgw = weight  \n",
        "    def printDetail(self):\n",
        "      print(\"Name :\",self.name)\n",
        "      fare = 450\n",
        "      if self.bgw < 20:\n",
        "         fare += 0\n",
        "      if self.bgw > 20 and self.bgw<=50:\n",
        "         fare += 50\n",
        "      if  self.bgw >50:\n",
        "         fare += 100\n",
        "      print(\"Bus Fare :\",fare,\"taka\")\n",
        "      \n",
        "print(\"Total Passenger:\", Passenger.count)\n",
        "p1 = Passenger(\"Jack\")\n",
        "p1.set_bag_weight(90)\n",
        "p2 = Passenger(\"Carol\")\n",
        "p2.set_bag_weight(10)\n",
        "p3 = Passenger(\"Mike\")\n",
        "p3.set_bag_weight(25)\n",
        "print(\"=========================\")\n",
        "p1.printDetail()\n",
        "print(\"=========================\")\n",
        "p2.printDetail()\n",
        "print(\"=========================\")\n",
        "p3.printDetail()\n",
        "print(\"=========================\")\n",
        "print(\"Total Passenger:\", Passenger.count)"
      ],
      "execution_count": null,
      "outputs": [
        {
          "output_type": "stream",
          "text": [
            "Total Passenger: 0\n",
            "=========================\n",
            "Name : Jack\n",
            "Bus Fare : 550 taka\n",
            "=========================\n",
            "Name : Carol\n",
            "Bus Fare : 450 taka\n",
            "=========================\n",
            "Name : Mike\n",
            "Bus Fare : 500 taka\n",
            "=========================\n",
            "Total Passenger: 3\n"
          ],
          "name": "stdout"
        }
      ]
    },
    {
      "cell_type": "markdown",
      "metadata": {
        "id": "CEpHIVInk8G_"
      },
      "source": [
        "Task4"
      ]
    },
    {
      "cell_type": "code",
      "metadata": {
        "colab": {
          "base_uri": "https://localhost:8080/"
        },
        "id": "fCsBKZwQk-Ry",
        "outputId": "5208e56d-c67d-4917-a218-fb5c91b8e8c6"
      },
      "source": [
        "class Travel:\n",
        "    count = 0\n",
        "    def __init__(self,source,destination,time=1):\n",
        "        self.src = source\n",
        "        self.dst = destination\n",
        "        self.time = time\n",
        "        Travel.count +=1\n",
        "    def display_travel_info(self):\n",
        "        return \"Source: \"+self.src + \" Destination:\" + self.dst + \" Flight.time:\"+ str(self.time) +\":00\"\n",
        "    def set_time(self,newtime):\n",
        "        self.time = newtime\n",
        "    def set_destination(self,newdestination):\n",
        "        self.dst =newdestination\n",
        "    def set_source(self,newsource):\n",
        "        self.src=newsource\n",
        "print(\"No. of Traveller =\", Travel.count)\n",
        "print(\"=======================\")\n",
        "t1 = Travel(\"Dhaka\",\"India\")\n",
        "print(t1.display_travel_info())\n",
        "print(\"=======================\")\n",
        "t2 = Travel(\"Kuala Lampur\",\"Dhaka\")\n",
        "t2.set_time(23)\n",
        "print(t2.display_travel_info())\n",
        "print(\"=======================\")\n",
        "t3 = Travel(\"Dhaka\",\"New_Zealand\")\n",
        "t3.set_time(15)\n",
        "t3.set_destination(\"Germany\")\n",
        "print(t3.display_travel_info())\n",
        "print(\"=======================\")\n",
        "t4 = Travel(\"Dhaka\",\"India\")\n",
        "t4.set_time(9)\n",
        "t4.set_source(\"Malaysia\")\n",
        "t4.set_destination(\"Canada\")\n",
        "print(t4.display_travel_info())\n",
        "print(\"=======================\")\n",
        "print(\"No. of Traveller =\", Travel.count)"
      ],
      "execution_count": null,
      "outputs": [
        {
          "output_type": "stream",
          "text": [
            "No. of Traveller = 0\n",
            "=======================\n",
            "Source: Dhaka Destination:India Flight.time:1:00\n",
            "=======================\n",
            "Source: Kuala Lampur Destination:Dhaka Flight.time:23:00\n",
            "=======================\n",
            "Source: Dhaka Destination:Germany Flight.time:15:00\n",
            "=======================\n",
            "Source: Malaysia Destination:Canada Flight.time:9:00\n",
            "=======================\n",
            "No. of Traveller = 4\n"
          ],
          "name": "stdout"
        }
      ]
    },
    {
      "cell_type": "markdown",
      "metadata": {
        "id": "fdIxemqWlKmb"
      },
      "source": [
        "Task5"
      ]
    },
    {
      "cell_type": "code",
      "metadata": {
        "colab": {
          "base_uri": "https://localhost:8080/"
        },
        "id": "I-Y3RqY5lL_y",
        "outputId": "eda313ae-e422-42f1-a97d-fced381803ee"
      },
      "source": [
        "class Employee:\n",
        "    def __init__(self,name,workingPeriod):\n",
        "        self.name=name\n",
        "        self.workingPeriod=workingPeriod\n",
        "    @classmethod\n",
        "    def employeeByJoiningYear(cls,name,joining_year):\n",
        "        exp_years=2021-joining_year\n",
        "        obj1=cls(name,exp_years)\n",
        "        return obj1\n",
        "    @staticmethod\n",
        "    def experienceCheck(working_period,gender):\n",
        "        if working_period<3 and gender=='male':\n",
        "            return \"He is not experienced\"\n",
        "        else:\n",
        "            return \"She is experienced\"\n",
        "\n",
        "employee1 = Employee('Dororo', 3)\n",
        "employee2 = Employee.employeeByJoiningYear('Harry', 2016)\n",
        "print(employee1.workingPeriod)\n",
        "print(employee2.workingPeriod)\n",
        "print(employee1.name)\n",
        "print(employee2.name)\n",
        "print(Employee.experienceCheck(2, \"male\"))\n",
        "print(Employee.experienceCheck(3, \"female\"))\n",
        "            "
      ],
      "execution_count": null,
      "outputs": [
        {
          "output_type": "stream",
          "text": [
            "3\n",
            "5\n",
            "Dororo\n",
            "Harry\n",
            "He is not experienced\n",
            "She is experienced\n"
          ],
          "name": "stdout"
        }
      ]
    },
    {
      "cell_type": "markdown",
      "metadata": {
        "id": "heWdlxuolPm5"
      },
      "source": [
        "Task6"
      ]
    },
    {
      "cell_type": "code",
      "metadata": {
        "colab": {
          "base_uri": "https://localhost:8080/"
        },
        "id": "RA0fOh9jlQ4D",
        "outputId": "9793b834-6b0a-477c-dcd6-6a2d54459f0a"
      },
      "source": [
        "class Student:\n",
        "    total_student=0\n",
        "    brac_university_student=0\n",
        "    other_institution_student=0\n",
        "    def __init__(self,name,department,institution=\"Brac University\"):\n",
        "        self.name=name\n",
        "        self.department=department\n",
        "        self.institution=institution\n",
        "        Student.brac_university_student+=1\n",
        "        Student.other_institution_student+=1\n",
        "        Student.total_student+= Student.brac_university_student+ Student.other_institution_student\n",
        "   \n",
        "    def individualDetail(self):\n",
        "     print(\"Name:\",self.name)\n",
        "     print(\"Department:\",self.department)\n",
        "     print(\"Institution:\",self.institution)\n",
        "     \n",
        "    @classmethod\n",
        "    def printDetails(cls):\n",
        "        print(\"Total Student(s):\",Student.total_student)\n",
        "        print(\"BRAC University Student(s):\",Student.brac_university_student)\n",
        "        print(\"Other Institution Student(s):\",Student.other_institution_student)\n",
        "    @classmethod\n",
        "    def createStudent(cls,name,department,institution=\"Brac University\"):\n",
        "        obj=cls(name,department,institution)\n",
        "        return obj\n",
        "\n",
        "Student.printDetails()\n",
        "print('#########################')\n",
        "mikasa = Student('Mikasa Ackerman', \"CSE\")\n",
        "mikasa.individualDetail()\n",
        "print('------------------------------------------')\n",
        "Student.printDetails()\n",
        "print('========================')\n",
        "harry = Student.createStudent('Harry Potter', \"Defence Against Dark Arts\", \"Hogwarts School\")\n",
        "harry.individualDetail()\n",
        "print('-------------------------------------------')\n",
        "Student.printDetails()\n",
        "print('=========================')\n",
        "levi = Student.createStudent(\"Levi Ackerman\", \"CSE\")\n",
        "levi.individualDetail()\n",
        "print('--------------------------------------------')\n",
        "Student.printDetails()    "
      ],
      "execution_count": null,
      "outputs": [
        {
          "output_type": "stream",
          "text": [
            "Total Student(s): 0\n",
            "BRAC University Student(s): 0\n",
            "Other Institution Student(s): 0\n",
            "#########################\n",
            "Name: Mikasa Ackerman\n",
            "Department: CSE\n",
            "Institution: Brac University\n",
            "------------------------------------------\n",
            "Total Student(s): 2\n",
            "BRAC University Student(s): 1\n",
            "Other Institution Student(s): 1\n",
            "========================\n",
            "Name: Harry Potter\n",
            "Department: Defence Against Dark Arts\n",
            "Institution: Hogwarts School\n",
            "-------------------------------------------\n",
            "Total Student(s): 6\n",
            "BRAC University Student(s): 2\n",
            "Other Institution Student(s): 2\n",
            "=========================\n",
            "Name: Levi Ackerman\n",
            "Department: CSE\n",
            "Institution: Brac University\n",
            "--------------------------------------------\n",
            "Total Student(s): 12\n",
            "BRAC University Student(s): 3\n",
            "Other Institution Student(s): 3\n"
          ],
          "name": "stdout"
        }
      ]
    },
    {
      "cell_type": "markdown",
      "metadata": {
        "id": "AuLDCm9BlV2k"
      },
      "source": [
        "Task7"
      ]
    },
    {
      "cell_type": "code",
      "metadata": {
        "colab": {
          "base_uri": "https://localhost:8080/"
        },
        "id": "JVcUrS6VlXLB",
        "outputId": "4cef8874-b41c-4add-ecdd-1e5d7f794c34"
      },
      "source": [
        "class Cat:\n",
        "    Number_of_cats = 0\n",
        "    def __init__(self,color,action):\n",
        "        self.color = color\n",
        "        self.action = action\n",
        "        Cat.Number_of_cats +=1\n",
        "    @classmethod\n",
        "    def no_parameter(cls):\n",
        "        color = \"White\"\n",
        "        action = \"sitting\"\n",
        "        return cls(color,action)\n",
        "    @classmethod\n",
        "    def first_parameter(cls,color):\n",
        "        color = color\n",
        "        action = \"sitting\"\n",
        "        return cls(color,action)\n",
        "    @classmethod\n",
        "    def second_parameter(cls,action):\n",
        "        color = \"Grey\"\n",
        "        action = action\n",
        "        return cls(color,action)\n",
        "    def changeColor(self,newcolor):\n",
        "        self.color = newcolor\n",
        "    def printCat(self):\n",
        "        print(self.color,\"cat is\",self.action)\n",
        "        \n",
        "print(\"Total number of cats:\", Cat.Number_of_cats)\n",
        "c1 = Cat.no_parameter()\n",
        "c2 = Cat.first_parameter(\"Black\")\n",
        "c3 = Cat(\"Brown\", \"jumping\")\n",
        "c4 = Cat(\"Red\", \"purring\")\n",
        "c5 = Cat.second_parameter(\"playing\")\n",
        "print(\"=======================\")\n",
        "c1.printCat()\n",
        "c2.printCat()\n",
        "c3.printCat()\n",
        "c4.printCat()\n",
        "c5.printCat()\n",
        "c1.changeColor(\"Blue\")\n",
        "c3.changeColor(\"Purple\")\n",
        "c1.printCat()\n",
        "c3.printCat()\n",
        "print(\"=======================\")\n",
        "print(\"Total number of cats:\", Cat.Number_of_cats)\n",
        "    "
      ],
      "execution_count": null,
      "outputs": [
        {
          "output_type": "stream",
          "text": [
            "Total number of cats: 0\n",
            "=======================\n",
            "White cat is sitting\n",
            "Black cat is sitting\n",
            "Brown cat is jumping\n",
            "Red cat is purring\n",
            "Grey cat is playing\n",
            "Blue cat is sitting\n",
            "Purple cat is jumping\n",
            "=======================\n",
            "Total number of cats: 5\n"
          ],
          "name": "stdout"
        }
      ]
    },
    {
      "cell_type": "markdown",
      "metadata": {
        "id": "5XPq4ojVleya"
      },
      "source": [
        "Task8"
      ]
    },
    {
      "cell_type": "code",
      "metadata": {
        "colab": {
          "base_uri": "https://localhost:8080/"
        },
        "id": "EJzUaDTHlg0X",
        "outputId": "f7bf3272-904d-4f03-a43e-ebb330fa0082"
      },
      "source": [
        "import math\n",
        "class Cylinder:\n",
        "    radius = 5\n",
        "    height = 18\n",
        "    \n",
        "    def __init__(self,rd,ht):\n",
        "        self.radius = rd\n",
        "        self.height = ht\n",
        "        print(\"Default radius=\"+str(Cylinder.radius)+\" and height=\"+str(Cylinder.height)+\".\")\n",
        "        \n",
        "        Cylinder.radius=rd\n",
        "        Cylinder.height=ht\n",
        "        print(\"Updated: radius=\"+str(Cylinder.radius)+\" and height=\"+str(Cylinder.height)+\".\")\n",
        "        \n",
        "    @staticmethod\n",
        "    def area(radius,height):\n",
        "        area = 2*math.pi*radius*radius + 2*math.pi*radius*height\n",
        "        print(\"Area :\",area)\n",
        "        \n",
        "    @staticmethod\n",
        "    def volume(radius,height):\n",
        "        volume = math.pi*height*radius**2\n",
        "        print(\"Volume :\",volume)\n",
        "        \n",
        "    @classmethod\n",
        "    def swap(cls,height,radius):\n",
        "        return cls(radius,height)\n",
        "    @classmethod\n",
        "    def changeFormat(cls,info):\n",
        "         radius,height=info.split(\"-\")\n",
        "         radius=float(radius)\n",
        "         height=float(height)\n",
        "         obj=cls(radius,height)\n",
        "         return obj\n",
        "     \n",
        "        \n",
        "     \n",
        "        \n",
        "c1 = Cylinder(0,0)\n",
        "Cylinder.area(c1.radius,c1.height)\n",
        "Cylinder.volume(c1.radius,c1.height)\n",
        "print(\"===============================\")\n",
        "c2 = Cylinder.swap(8,3)\n",
        "c2.area(c2.radius,c2.height)\n",
        "c2.volume(c2.radius,c2.height)\n",
        "print(\"===============================\")\n",
        "c3 = Cylinder.changeFormat(\"7-13\")\n",
        "c3.area(c3.radius,c3.height)\n",
        "c3.volume(c3.radius,c3.height)\n",
        "print(\"===============================\")\n",
        "Cylinder(0.3,5.56).area(Cylinder.radius,Cylinder.height)\n",
        "print(\"===============================\")\n",
        "Cylinder(3,5).volume(Cylinder.radius,Cylinder.height)\n",
        "         \n",
        "     "
      ],
      "execution_count": null,
      "outputs": [
        {
          "output_type": "stream",
          "text": [
            "Default radius=5 and height=18.\n",
            "Updated: radius=0 and height=0.\n",
            "Area : 0.0\n",
            "Volume : 0.0\n",
            "===============================\n",
            "Default radius=0 and height=0.\n",
            "Updated: radius=3 and height=8.\n",
            "Area : 207.34511513692635\n",
            "Volume : 226.1946710584651\n",
            "===============================\n",
            "Default radius=3 and height=8.\n",
            "Updated: radius=7.0 and height=13.0.\n",
            "Area : 879.645943005142\n",
            "Volume : 2001.1945203366984\n",
            "===============================\n",
            "Default radius=7.0 and height=13.0.\n",
            "Updated: radius=0.3 and height=5.56.\n",
            "Area : 11.045839770021713\n",
            "===============================\n",
            "Default radius=0.3 and height=5.56.\n",
            "Updated: radius=3 and height=5.\n",
            "Volume : 141.3716694115407\n"
          ],
          "name": "stdout"
        }
      ]
    },
    {
      "cell_type": "markdown",
      "metadata": {
        "id": "PAPCHur4lqsC"
      },
      "source": [
        "Task9"
      ]
    },
    {
      "cell_type": "code",
      "metadata": {
        "colab": {
          "base_uri": "https://localhost:8080/"
        },
        "id": "z3UFIysQlr1p",
        "outputId": "4653daf2-9159-4bbd-cf42-582d99b14476"
      },
      "source": [
        "class Student:\n",
        "    total_student=0\n",
        "    brac_university_student=0\n",
        "    other_institution_student=0\n",
        "    def __init__(self,name,department,institution=\"Brac University\"):\n",
        "        self.name=name\n",
        "        self.department=department\n",
        "        self.institution=institution\n",
        "        if institution==\"Brac University\":\n",
        "            Student.brac_university_student+=1\n",
        "           \n",
        "        else:\n",
        "            Student.other_institution_student+=1\n",
        "        Student.total_student=Student.brac_university_student+Student.other_institution_student\n",
        "   \n",
        "    def individualDetail(self):\n",
        "     print(\"Name:\",self.name)\n",
        "     print(\"Department:\",self.department)\n",
        "     print(\"Institution:\",self.institution)\n",
        "     \n",
        "    @classmethod\n",
        "    def printDetails(cls):\n",
        "        print(\"Total Student(s):\",Student.total_student)\n",
        "        print(\"BRAC University Student(s):\",Student.brac_university_student)\n",
        "        print(\"Other Institution Student(s):\",Student.other_institution_student)\n",
        "    @classmethod\n",
        "    def createStudent(cls,name,department,institution=\"Brac University\"):\n",
        "        obj=cls(name,department,institution)\n",
        "        return obj\n",
        "\n",
        "Student.printDetails()\n",
        "print('#########################')\n",
        "mikasa = Student('Mikasa Ackerman', \"CSE\")\n",
        "mikasa.individualDetail()\n",
        "print('------------------------------------------')\n",
        "Student.printDetails()\n",
        "print('========================')\n",
        "harry = Student.createStudent('Harry Potter', \"Defence Against Dark Arts\", \"Hogwarts School\")\n",
        "harry.individualDetail()\n",
        "print('-------------------------------------------')\n",
        "Student.printDetails()\n",
        "print('=========================')\n",
        "levi = Student.createStudent(\"Levi Ackerman\", \"CSE\")\n",
        "levi.individualDetail()\n",
        "print('--------------------------------------------')\n",
        "Student.printDetails()    "
      ],
      "execution_count": null,
      "outputs": [
        {
          "output_type": "stream",
          "text": [
            "Total Student(s): 0\n",
            "BRAC University Student(s): 0\n",
            "Other Institution Student(s): 0\n",
            "#########################\n",
            "Name: Mikasa Ackerman\n",
            "Department: CSE\n",
            "Institution: Brac University\n",
            "------------------------------------------\n",
            "Total Student(s): 1\n",
            "BRAC University Student(s): 1\n",
            "Other Institution Student(s): 0\n",
            "========================\n",
            "Name: Harry Potter\n",
            "Department: Defence Against Dark Arts\n",
            "Institution: Hogwarts School\n",
            "-------------------------------------------\n",
            "Total Student(s): 2\n",
            "BRAC University Student(s): 1\n",
            "Other Institution Student(s): 1\n",
            "=========================\n",
            "Name: Levi Ackerman\n",
            "Department: CSE\n",
            "Institution: Brac University\n",
            "--------------------------------------------\n",
            "Total Student(s): 3\n",
            "BRAC University Student(s): 2\n",
            "Other Institution Student(s): 1\n"
          ],
          "name": "stdout"
        }
      ]
    }
  ]
}