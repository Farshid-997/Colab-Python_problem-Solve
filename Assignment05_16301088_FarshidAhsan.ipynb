{
  "nbformat": 4,
  "nbformat_minor": 0,
  "metadata": {
    "colab": {
      "name": "Assignment05_16301088_FarshidAhsan.ipynb",
      "provenance": [],
      "collapsed_sections": [],
      "authorship_tag": "ABX9TyNfguFYPqgTBZKos6sIGKTj",
      "include_colab_link": true
    },
    "kernelspec": {
      "name": "python3",
      "display_name": "Python 3"
    },
    "language_info": {
      "name": "python"
    }
  },
  "cells": [
    {
      "cell_type": "markdown",
      "metadata": {
        "id": "view-in-github",
        "colab_type": "text"
      },
      "source": [
        "<a href=\"https://colab.research.google.com/github/Farshid-997/Colab-Python_problem-Solve/blob/main/Assignment05_16301088_FarshidAhsan.ipynb\" target=\"_parent\"><img src=\"https://colab.research.google.com/assets/colab-badge.svg\" alt=\"Open In Colab\"/></a>"
      ]
    },
    {
      "cell_type": "markdown",
      "metadata": {
        "id": "QknGRcFYmBcZ"
      },
      "source": [
        "Task1"
      ]
    },
    {
      "cell_type": "code",
      "metadata": {
        "colab": {
          "base_uri": "https://localhost:8080/"
        },
        "id": "zzrVORCBmF4J",
        "outputId": "b447cc9a-6c8a-48ab-d9ba-ab487ee4df72"
      },
      "source": [
        "class Marks:\n",
        "    \n",
        "    def __init__(self,mark):\n",
        "        self.mark=mark\n",
        "    def __add__(self,other):\n",
        "        sum=self.mark+other.mark\n",
        "        return Marks(sum)\n",
        "Q1 = Marks(int(input(\"Quiz 1 (out of 10): \")))\n",
        "Q2 = Marks(int(input(\"Quiz 2 (out of 10): \")))\n",
        "Lab = Marks(int(input(\"Lab (out of 30): \")))\n",
        "Mid = Marks(int(input(\"Mid (out of 20): \")))\n",
        "Final = Marks(int(input(\"Final (out of 30): \")))\n",
        "total = Q1 + Q2 + Lab + Mid + Final\n",
        "print(\"Total marks: {}\".format(total.mark))"
      ],
      "execution_count": null,
      "outputs": [
        {
          "output_type": "stream",
          "text": [
            "Quiz 1 (out of 10): 10\n",
            "Quiz 2 (out of 10): 10\n",
            "Lab (out of 30): 30\n",
            "Mid (out of 20): 20\n",
            "Final (out of 30): 30\n",
            "Total marks: 100\n"
          ],
          "name": "stdout"
        }
      ]
    },
    {
      "cell_type": "markdown",
      "metadata": {
        "id": "lyeNZAxs09Vw"
      },
      "source": [
        "Task2"
      ]
    },
    {
      "cell_type": "code",
      "metadata": {
        "colab": {
          "base_uri": "https://localhost:8080/"
        },
        "id": "a3hrwbPy0_Ye",
        "outputId": "3ba37917-361d-4d1e-8665-6dbfcdd60319"
      },
      "source": [
        "class Teacher:\n",
        "    def __init__(self,fac_name,dept_name):\n",
        "        self.__fac_name=fac_name\n",
        "        self.__dept_name=dept_name\n",
        "        self.__list=list()\n",
        "    def addCourse(self,course):\n",
        "        self.__list.append(course)\n",
        "    def printDetail(self):\n",
        "        print(\"=======================\")\n",
        "        print(\"Name:\",self.__fac_name)\n",
        "        print(\"Department:\",self.__dept_name)\n",
        "        print(\"List of courses\")\n",
        "        print(\"========================\")\n",
        "        for i in self.__list:\n",
        "            print(i.name)\n",
        "        print(\"=====================================\")    \n",
        "class Course:\n",
        "    def __init__(self,name):\n",
        "        self.name=name\n",
        "        \n",
        "t1 = Teacher(\"Saad Abdullah\", \"CSE\")\n",
        "t2 = Teacher(\"Mumit Khan\", \"CSE\")\n",
        "t3 = Teacher(\"Sadia Kazi\", \"CSE\")\n",
        "c1 = Course(\"CSE 110 Programming Language I\")\n",
        "c2 = Course(\"CSE 111 Programming Language-II\")\n",
        "c3 = Course(\"CSE 220 Data Structures\")\n",
        "c4 = Course(\"CSE 221 Algorithms\")\n",
        "c5 = Course(\"CCSE 230 Discrete Mathematics\")\n",
        "c6 = Course(\"CSE 310 Object Oriented Programming\")\n",
        "c7 = Course(\"CSE 320 Data Communications\")\n",
        "c8 = Course(\"CSE 340 Computer Architecture\")\n",
        "t1.addCourse(c1)\n",
        "t1.addCourse(c2)\n",
        "t2.addCourse(c3)\n",
        "t2.addCourse(c4)\n",
        "t2.addCourse(c5)\n",
        "t3.addCourse(c6)\n",
        "t3.addCourse(c7)\n",
        "t3.addCourse(c8)\n",
        "t1.printDetail()\n",
        "t2.printDetail()\n",
        "t3.printDetail()"
      ],
      "execution_count": null,
      "outputs": [
        {
          "output_type": "stream",
          "text": [
            "=======================\n",
            "Name: Saad Abdullah\n",
            "Department: CSE\n",
            "List of courses\n",
            "========================\n",
            "CSE 110 Programming Language I\n",
            "CSE 111 Programming Language-II\n",
            "=====================================\n",
            "=======================\n",
            "Name: Mumit Khan\n",
            "Department: CSE\n",
            "List of courses\n",
            "========================\n",
            "CSE 220 Data Structures\n",
            "CSE 221 Algorithms\n",
            "CCSE 230 Discrete Mathematics\n",
            "=====================================\n",
            "=======================\n",
            "Name: Sadia Kazi\n",
            "Department: CSE\n",
            "List of courses\n",
            "========================\n",
            "CSE 310 Object Oriented Programming\n",
            "CSE 320 Data Communications\n",
            "CSE 340 Computer Architecture\n",
            "=====================================\n"
          ],
          "name": "stdout"
        }
      ]
    },
    {
      "cell_type": "markdown",
      "metadata": {
        "id": "w9ASrRvh1Lz9"
      },
      "source": [
        "Task3\n"
      ]
    },
    {
      "cell_type": "code",
      "metadata": {
        "colab": {
          "base_uri": "https://localhost:8080/"
        },
        "id": "lZn09KQ41NYK",
        "outputId": "c1fdb785-7c4a-4edb-bbb1-64839ea30142"
      },
      "source": [
        "class Team:\n",
        "    def __init__(self,team_name=None):\n",
        "        self.__team_name=team_name\n",
        "        self.__players=[]\n",
        "        self.__list=[]\n",
        "    def setName(self,team_name):\n",
        "        self.__team_name=team_name\n",
        "    def addPlayer(self,player):\n",
        "       self.__players.append(player)\n",
        "       \n",
        "    def printDetail(self):\n",
        "        print(\"Team:\",self.__team_name)\n",
        "        print(\"List of Players:\")\n",
        "        for i in self.__players:\n",
        "            self.__list.append(i.player_name)\n",
        "        print(self.__list)\n",
        "class Player:\n",
        "    def __init__(self,player_name):\n",
        "        self.player_name=player_name\n",
        "        \n",
        "        \n",
        "        \n",
        "        \n",
        "        \n",
        "b = Team()\n",
        "b.setName('Bangladesh')\n",
        "mashrafi = Player(\"Mashrafi\")\n",
        "b.addPlayer(mashrafi)\n",
        "tamim = Player(\"Tamim\")\n",
        "b.addPlayer(tamim)\n",
        "b.printDetail()\n",
        "a = Team(\"Australia\")\n",
        "ponting = Player(\"Ponting\")\n",
        "a.addPlayer(ponting)\n",
        "lee = Player(\"Lee\")\n",
        "a.addPlayer(lee)\n",
        "a.printDetail()"
      ],
      "execution_count": null,
      "outputs": [
        {
          "output_type": "stream",
          "text": [
            "Team: Bangladesh\n",
            "List of Players:\n",
            "['Mashrafi', 'Tamim']\n",
            "Team: Australia\n",
            "List of Players:\n",
            "['Ponting', 'Lee']\n"
          ],
          "name": "stdout"
        }
      ]
    },
    {
      "cell_type": "markdown",
      "metadata": {
        "id": "9NOreCQP1S6Y"
      },
      "source": [
        "Task4"
      ]
    },
    {
      "cell_type": "code",
      "metadata": {
        "colab": {
          "base_uri": "https://localhost:8080/"
        },
        "id": "SECwq_RD1UH9",
        "outputId": "f18dba9c-78be-402b-8888-9b46d5c4a293"
      },
      "source": [
        "class Color:\n",
        "    def __init__(self,clr):\n",
        "        self.clr=clr\n",
        "    def __add__(self,other):\n",
        "        mixed_clr=self.clr+other.clr\n",
        "        if self.clr==\"red\" and other.clr==\"yellow\" or self.clr==\"yellow\" and other.clr==\"red\":\n",
        "            mixed_clr=\"Orange\"\n",
        "        elif self.clr==\"red\" and other.clr==\"blue\" or self.clr==\"blue\" and other.clr==\"red\":\n",
        "            mixed_clr=\"Violet\"\n",
        "        elif self.clr==\"yellow\" and other.clr==\"blue\" or self.clr==\"blue\" and other.clr==\"yellow\":\n",
        "             mixed_clr=\"Green\"\n",
        "             \n",
        "        return Color(mixed_clr)\n",
        "C1 = Color(input(\"First Color: \").lower())\n",
        "C2 = Color(input(\"Second Color: \").lower())\n",
        "C3 = C1 + C2\n",
        "print(\"Color formed:\", C3.clr)"
      ],
      "execution_count": null,
      "outputs": [
        {
          "output_type": "stream",
          "text": [
            "First Color: red\n",
            "Second Color: yellow\n",
            "Color formed: Orange\n"
          ],
          "name": "stdout"
        }
      ]
    },
    {
      "cell_type": "markdown",
      "metadata": {
        "id": "5LMa_PeS1dcE"
      },
      "source": [
        "Task5"
      ]
    },
    {
      "cell_type": "code",
      "metadata": {
        "colab": {
          "base_uri": "https://localhost:8080/"
        },
        "id": "8m1r_Anv1e5g",
        "outputId": "0e8fd169-632d-492f-875e-292c65ade7d6"
      },
      "source": [
        "import math\n",
        "class Circle:\n",
        "    def __init__(self,radius):\n",
        "        self.__radius=radius\n",
        "    def setRadius(self,radius):\n",
        "         self.__radius=radius\n",
        "    def getRadius(self):\n",
        "        return self.__radius\n",
        "    def area(self):\n",
        "        area_circle=math.pi*(self.__radius*self.__radius)\n",
        "        return area_circle\n",
        "    def __add__(self,other):\n",
        "       area_circle1=self.__radius+other.__radius\n",
        "       return Circle(area_circle1)\n",
        "c1 = Circle(4)\n",
        "print(\"First circle radius:\" , c1.getRadius())\n",
        "print(\"First circle area:\" ,c1.area())\n",
        "c2 = Circle(5)\n",
        "print(\"Second circle radius:\" ,c2.getRadius())\n",
        "print(\"Second circle area:\" ,c2.area())\n",
        "c3 = c1 + c2\n",
        "print(\"Third circle radius:\" ,c3.getRadius())\n",
        "print(\"Third circle area:\" ,c3.area())"
      ],
      "execution_count": null,
      "outputs": [
        {
          "output_type": "stream",
          "text": [
            "First circle radius: 4\n",
            "First circle area: 50.26548245743669\n",
            "Second circle radius: 5\n",
            "Second circle area: 78.53981633974483\n",
            "Third circle radius: 9\n",
            "Third circle area: 254.46900494077323\n"
          ],
          "name": "stdout"
        }
      ]
    },
    {
      "cell_type": "markdown",
      "metadata": {
        "id": "rZv_x7i21kQs"
      },
      "source": [
        "Task6"
      ]
    },
    {
      "cell_type": "code",
      "metadata": {
        "colab": {
          "base_uri": "https://localhost:8080/"
        },
        "id": "pWqVlaj51lsW",
        "outputId": "764e4035-ebb4-49d2-c85b-fb08ef32929e"
      },
      "source": [
        "class Triangle:\n",
        "    def __init__(self,base,height):\n",
        "        self.__height=height\n",
        "        self.__base=base\n",
        "    def setBase(self,base):\n",
        "        self.__base=base\n",
        "    def setHeight(self,height):\n",
        "        self.__height=height\n",
        "    def getBase(self):\n",
        "        return self.__base\n",
        "    def getHeight(self):\n",
        "        return self.__height\n",
        "    def area(self):\n",
        "        a=(self.__base*self.__height)/2\n",
        "        return a\n",
        "    def __sub__(self,other):\n",
        "        new_base=self.__base-other.__base\n",
        "        new_height=self.__height-other.__height\n",
        "     \n",
        "        return Triangle(new_base,new_height)\n",
        "        \n",
        "t1 = Triangle(10, 5)\n",
        "print(\"First Triangle Base:\" , t1.getBase())\n",
        "print(\"First Triangle Height:\" , t1.getHeight())\n",
        "print(\"First Triangle area:\" ,t1.area())\n",
        "t2 = Triangle(5, 3)\n",
        "print(\"Second Triangle Base:\" , t2.getBase())\n",
        "print(\"Second Triangle Height:\" , t2.getHeight())\n",
        "print(\"Second Triangle area:\" ,t2.area())\n",
        "t3 = t1 - t2\n",
        "print(\"Third Triangle Base:\" , t3.getBase())\n",
        "print(\"Third Triangle Height:\" , t3.getHeight())\n",
        "print(\"Third Triangle area:\" ,t3.area())"
      ],
      "execution_count": null,
      "outputs": [
        {
          "output_type": "stream",
          "text": [
            "First Triangle Base: 10\n",
            "First Triangle Height: 5\n",
            "First Triangle area: 25.0\n",
            "Second Triangle Base: 5\n",
            "Second Triangle Height: 3\n",
            "Second Triangle area: 7.5\n",
            "Third Triangle Base: 5\n",
            "Third Triangle Height: 2\n",
            "Third Triangle area: 5.0\n"
          ],
          "name": "stdout"
        }
      ]
    },
    {
      "cell_type": "markdown",
      "metadata": {
        "id": "ZrfXLIqr1wxh"
      },
      "source": [
        "Task7"
      ]
    },
    {
      "cell_type": "code",
      "metadata": {
        "colab": {
          "base_uri": "https://localhost:8080/"
        },
        "id": "tE3sqhLB1x3M",
        "outputId": "b0eaaab5-1b47-432a-efdd-44628cdfa723"
      },
      "source": [
        "class Dolls:\n",
        "    def __init__(self,name,price):\n",
        "        self.name=name\n",
        "        self.price=price\n",
        "        \n",
        "    def detail(self):\n",
        "        print(\"Doll:\",self.name)\n",
        "        return \"Total Price:{} taka\".format(self.price)\n",
        "       \n",
        "    def __gt__(self,other):\n",
        "         if  self.price>other.price:\n",
        "             return 1\n",
        "         else:\n",
        "             return 0\n",
        "    def __add__(self,other):\n",
        "       \n",
        "        dolls=self.name+other.name\n",
        "        Total_price=self.price+other.price\n",
        "        return Dolls(dolls,Total_price)\n",
        "obj_1 = Dolls(\"Tweety\", 2500)\n",
        "print(obj_1.detail())\n",
        "if obj_1 > obj_1:\n",
        "    print(\"Congratulations! You get the Tweety as a gift!\")\n",
        "else:\n",
        "    print(\"Thank you!\")\n",
        "    print(\"=========================\")\n",
        "obj_2 = Dolls(\"Daffy Duck\", 1800)\n",
        "print(obj_2.detail())\n",
        "if obj_2 > obj_1:\n",
        "    print(\"Congratulations! You get the Tweety as a gift!\")\n",
        "else:\n",
        "    print(\"Thank you!\")\n",
        "    print(\"=========================\")\n",
        "obj_3 = Dolls(\"Bugs Bunny\", 3000)\n",
        "print(obj_3.detail())\n",
        "if obj_3 > obj_1:\n",
        "    print(\"Congratulations! You get the Tweety as a gift!\")\n",
        "else:\n",
        "    print(\"Thank you!\")\n",
        "    print(\"=========================\")\n",
        "obj_4 = Dolls(\"Porky Pig\", 1500)\n",
        "print(obj_4.detail())\n",
        "if obj_4 > obj_1:\n",
        "    print(\"Congratulations! You get the Tweety as a gift!\")\n",
        "else:\n",
        "    print(\"Thank you!\")\n",
        "    print(\"=========================\")\n",
        "obj_5 = obj_2 + obj_3\n",
        "print(obj_5.detail())\n",
        "if obj_5 > obj_1:\n",
        "    print(\"Congratulations! You get the Tweety as a gift!\")\n",
        "else:\n",
        "    print(\"Thank you!\")\n",
        "        "
      ],
      "execution_count": null,
      "outputs": [
        {
          "output_type": "stream",
          "text": [
            "Doll: Tweety\n",
            "Total Price:2500 taka\n",
            "Thank you!\n",
            "=========================\n",
            "Doll: Daffy Duck\n",
            "Total Price:1800 taka\n",
            "Thank you!\n",
            "=========================\n",
            "Doll: Bugs Bunny\n",
            "Total Price:3000 taka\n",
            "Congratulations! You get the Tweety as a gift!\n",
            "Doll: Porky Pig\n",
            "Total Price:1500 taka\n",
            "Thank you!\n",
            "=========================\n",
            "Doll: Daffy DuckBugs Bunny\n",
            "Total Price:4800 taka\n",
            "Congratulations! You get the Tweety as a gift!\n"
          ],
          "name": "stdout"
        }
      ]
    },
    {
      "cell_type": "markdown",
      "metadata": {
        "id": "IJ6EyBWb135A"
      },
      "source": [
        "Task8"
      ]
    },
    {
      "cell_type": "code",
      "metadata": {
        "colab": {
          "base_uri": "https://localhost:8080/"
        },
        "id": "M1yjJ7TH15Dm",
        "outputId": "e9058426-1dc9-446b-da1b-d724141576bb"
      },
      "source": [
        "class Coordinates:\n",
        "    def __init__(self,number1,number2):\n",
        "        self.number1=number1\n",
        "        self.number2=number2\n",
        "    def __sub__(self,other):\n",
        "        c1_sub1=(self.number1-other.number1)\n",
        "        c2_sub2=(self.number2-other.number2)\n",
        "        return Coordinates(c1_sub1, c2_sub2)\n",
        "    def __mul__(self,other):\n",
        "        c1_mul1=(self.number1*other.number1)\n",
        "        c2_mul2=(self.number2*other.number2)\n",
        "        return Coordinates(c1_mul1, c2_mul2)\n",
        "    def __eq__(self,other):\n",
        "       if self.number1==other.number1 and self.number2==other.number2:\n",
        "          return(\"The calculated coordinates are the same.\")\n",
        "       else:\n",
        "           return(\"The calculated coordinates are NOT the same.\")\n",
        "    def detail(self):\n",
        "        return (self.number1,self.number2)\n",
        "p1 = Coordinates(int(input()),int(input()))\n",
        "p2 = Coordinates(int(input()),int(input()))\n",
        "p4 = p1 - p2\n",
        "print(p4.detail())\n",
        "p5 = p1 * p2\n",
        "print(p5.detail())3\n",
        "point_check = (p4 == p5)\n",
        "print(point_check)"
      ],
      "execution_count": null,
      "outputs": [
        {
          "output_type": "stream",
          "text": [
            "1\n",
            "2\n",
            "3\n",
            "4\n",
            "(-2, -2)\n",
            "(3, 8)\n",
            "The calculated coordinates are NOT the same.\n"
          ],
          "name": "stdout"
        }
      ]
    }
  ]
}